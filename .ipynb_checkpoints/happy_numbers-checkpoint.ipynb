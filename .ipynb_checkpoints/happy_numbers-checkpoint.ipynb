{
 "cells": [
  {
   "cell_type": "code",
   "execution_count": 1,
   "id": "8f4856bb",
   "metadata": {},
   "outputs": [],
   "source": [
    "# Happy Numbers"
   ]
  },
  {
   "cell_type": "code",
   "execution_count": 2,
   "id": "02d17095",
   "metadata": {},
   "outputs": [],
   "source": [
    "ejemplo = 12"
   ]
  },
  {
   "cell_type": "code",
   "execution_count": 3,
   "id": "e753ed99",
   "metadata": {},
   "outputs": [
    {
     "data": {
      "text/plain": [
       "12"
      ]
     },
     "execution_count": 3,
     "metadata": {},
     "output_type": "execute_result"
    }
   ],
   "source": [
    "ejemplo"
   ]
  },
  {
   "cell_type": "code",
   "execution_count": 4,
   "id": "707453af",
   "metadata": {},
   "outputs": [
    {
     "ename": "TypeError",
     "evalue": "'int' object is not iterable",
     "output_type": "error",
     "traceback": [
      "\u001b[0;31m---------------------------------------------------------------------------\u001b[0m",
      "\u001b[0;31mTypeError\u001b[0m                                 Traceback (most recent call last)",
      "Input \u001b[0;32mIn [4]\u001b[0m, in \u001b[0;36m<module>\u001b[0;34m\u001b[0m\n\u001b[0;32m----> 1\u001b[0m \u001b[38;5;28;01mfor\u001b[39;00m i \u001b[38;5;129;01min\u001b[39;00m ejemplo:\n\u001b[1;32m      2\u001b[0m     \u001b[38;5;28mprint\u001b[39m(i)\n",
      "\u001b[0;31mTypeError\u001b[0m: 'int' object is not iterable"
     ]
    }
   ],
   "source": [
    "for i in ejemplo:\n",
    "    print(i)"
   ]
  },
  {
   "cell_type": "code",
   "execution_count": 6,
   "id": "95cad191",
   "metadata": {},
   "outputs": [
    {
     "name": "stdout",
     "output_type": "stream",
     "text": [
      "[1, 2]\n"
     ]
    }
   ],
   "source": [
    "# separamos en dígitos usando list comprehension\n",
    "x = [int(a) for a in str(ejemplo)]\n",
    "print(x)"
   ]
  },
  {
   "cell_type": "code",
   "execution_count": 9,
   "id": "b089871f",
   "metadata": {},
   "outputs": [],
   "source": [
    "def pdi_function(number, base: int = 10):\n",
    "    \"\"\"Perfect digital invariant function.\"\"\"\n",
    "    total = 0\n",
    "    while number > 0:\n",
    "        total += pow(number % base, 2)\n",
    "        number = number // base\n",
    "    return total\n",
    "\n",
    "def is_happy(number: int) -> bool:\n",
    "    \"\"\"Determine if the specified number is a happy number.\"\"\"\n",
    "    seen_numbers = set()\n",
    "    while number > 1 and number not in seen_numbers:\n",
    "        seen_numbers.add(number)\n",
    "        number = pdi_function(number)\n",
    "    return number == 1"
   ]
  },
  {
   "cell_type": "code",
   "execution_count": 12,
   "id": "49e5626a",
   "metadata": {},
   "outputs": [
    {
     "data": {
      "text/plain": [
       "True"
      ]
     },
     "execution_count": 12,
     "metadata": {},
     "output_type": "execute_result"
    }
   ],
   "source": [
    "is_happy(1)"
   ]
  },
  {
   "cell_type": "code",
   "execution_count": 13,
   "id": "c44e871f",
   "metadata": {},
   "outputs": [],
   "source": [
    "# https://www.youtube.com/watch?v=vIQY1k0vyGo&ab_channel=TheCodeCreative"
   ]
  },
  {
   "cell_type": "code",
   "execution_count": 17,
   "id": "098ac2d7",
   "metadata": {},
   "outputs": [
    {
     "data": {
      "text/plain": [
       "82"
      ]
     },
     "execution_count": 17,
     "metadata": {},
     "output_type": "execute_result"
    }
   ],
   "source": [
    "numero = 19\n",
    "digitos = [int(a) for a in str(numero)]\n",
    "suma = sum([x ** 2 for x in digitos])\n",
    "suma"
   ]
  },
  {
   "cell_type": "code",
   "execution_count": 18,
   "id": "31a95ef0",
   "metadata": {},
   "outputs": [],
   "source": [
    "numeros_vistos = set()"
   ]
  },
  {
   "cell_type": "code",
   "execution_count": 28,
   "id": "cea855fc",
   "metadata": {},
   "outputs": [],
   "source": [
    "def es_feliz(numero):\n",
    "    numeros_vistos = set()\n",
    "    while numero>1 and numero not in numeros_vistos:\n",
    "        numero = potencia_digitos(numero)\n",
    "        numeros_vistos.add(numero)\n",
    "    return numero == 1\n",
    "          \n",
    "    "
   ]
  },
  {
   "cell_type": "code",
   "execution_count": 29,
   "id": "f6122598",
   "metadata": {},
   "outputs": [],
   "source": [
    "def potencia_digitos(numero):\n",
    "    digitos = [int(a) for a in str(numero)]\n",
    "    suma = sum([x ** 2 for x in digitos])\n",
    "    return suma"
   ]
  },
  {
   "cell_type": "code",
   "execution_count": 27,
   "id": "b8817bcc",
   "metadata": {},
   "outputs": [
    {
     "data": {
      "text/plain": [
       "False"
      ]
     },
     "execution_count": 27,
     "metadata": {},
     "output_type": "execute_result"
    }
   ],
   "source": [
    "es_feliz(19)"
   ]
  },
  {
   "cell_type": "code",
   "execution_count": null,
   "id": "ae0984f2",
   "metadata": {},
   "outputs": [],
   "source": []
  }
 ],
 "metadata": {
  "kernelspec": {
   "display_name": "Python 3 (ipykernel)",
   "language": "python",
   "name": "python3"
  },
  "language_info": {
   "codemirror_mode": {
    "name": "ipython",
    "version": 3
   },
   "file_extension": ".py",
   "mimetype": "text/x-python",
   "name": "python",
   "nbconvert_exporter": "python",
   "pygments_lexer": "ipython3",
   "version": "3.8.10"
  }
 },
 "nbformat": 4,
 "nbformat_minor": 5
}
