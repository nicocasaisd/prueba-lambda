{
 "cells": [
  {
   "cell_type": "code",
   "execution_count": 1,
   "id": "8f4856bb",
   "metadata": {},
   "outputs": [],
   "source": [
    "# Happy Numbers"
   ]
  },
  {
   "cell_type": "code",
   "execution_count": 2,
   "id": "02d17095",
   "metadata": {},
   "outputs": [],
   "source": [
    "ejemplo = 12"
   ]
  },
  {
   "cell_type": "code",
   "execution_count": 3,
   "id": "e753ed99",
   "metadata": {},
   "outputs": [
    {
     "data": {
      "text/plain": [
       "12"
      ]
     },
     "execution_count": 3,
     "metadata": {},
     "output_type": "execute_result"
    }
   ],
   "source": [
    "ejemplo"
   ]
  },
  {
   "cell_type": "code",
   "execution_count": 4,
   "id": "707453af",
   "metadata": {},
   "outputs": [
    {
     "ename": "TypeError",
     "evalue": "'int' object is not iterable",
     "output_type": "error",
     "traceback": [
      "\u001b[0;31m---------------------------------------------------------------------------\u001b[0m",
      "\u001b[0;31mTypeError\u001b[0m                                 Traceback (most recent call last)",
      "Input \u001b[0;32mIn [4]\u001b[0m, in \u001b[0;36m<module>\u001b[0;34m\u001b[0m\n\u001b[0;32m----> 1\u001b[0m \u001b[38;5;28;01mfor\u001b[39;00m i \u001b[38;5;129;01min\u001b[39;00m ejemplo:\n\u001b[1;32m      2\u001b[0m     \u001b[38;5;28mprint\u001b[39m(i)\n",
      "\u001b[0;31mTypeError\u001b[0m: 'int' object is not iterable"
     ]
    }
   ],
   "source": [
    "for i in ejemplo:\n",
    "    print(i)"
   ]
  },
  {
   "cell_type": "code",
   "execution_count": 6,
   "id": "95cad191",
   "metadata": {},
   "outputs": [
    {
     "name": "stdout",
     "output_type": "stream",
     "text": [
      "[1, 2]\n"
     ]
    }
   ],
   "source": [
    "# separamos en dígitos usando list comprehension\n",
    "x = [int(a) for a in str(ejemplo)]\n",
    "print(x)"
   ]
  },
  {
   "cell_type": "code",
   "execution_count": 9,
   "id": "b089871f",
   "metadata": {},
   "outputs": [],
   "source": [
    "def pdi_function(number, base: int = 10):\n",
    "    \"\"\"Perfect digital invariant function.\"\"\"\n",
    "    total = 0\n",
    "    while number > 0:\n",
    "        total += pow(number % base, 2)\n",
    "        number = number // base\n",
    "    return total\n",
    "\n",
    "def is_happy(number: int) -> bool:\n",
    "    \"\"\"Determine if the specified number is a happy number.\"\"\"\n",
    "    seen_numbers = set()\n",
    "    while number > 1 and number not in seen_numbers:\n",
    "        seen_numbers.add(number)\n",
    "        number = pdi_function(number)\n",
    "    return number == 1"
   ]
  },
  {
   "cell_type": "code",
   "execution_count": 12,
   "id": "49e5626a",
   "metadata": {},
   "outputs": [
    {
     "data": {
      "text/plain": [
       "True"
      ]
     },
     "execution_count": 12,
     "metadata": {},
     "output_type": "execute_result"
    }
   ],
   "source": [
    "is_happy(1)"
   ]
  },
  {
   "cell_type": "code",
   "execution_count": 13,
   "id": "c44e871f",
   "metadata": {},
   "outputs": [],
   "source": [
    "# https://www.youtube.com/watch?v=vIQY1k0vyGo&ab_channel=TheCodeCreative"
   ]
  },
  {
   "cell_type": "code",
   "execution_count": 17,
   "id": "098ac2d7",
   "metadata": {},
   "outputs": [
    {
     "data": {
      "text/plain": [
       "82"
      ]
     },
     "execution_count": 17,
     "metadata": {},
     "output_type": "execute_result"
    }
   ],
   "source": [
    "numero = 19\n",
    "digitos = [int(a) for a in str(numero)]\n",
    "suma = sum([x ** 2 for x in digitos])\n",
    "suma"
   ]
  },
  {
   "cell_type": "code",
   "execution_count": 18,
   "id": "31a95ef0",
   "metadata": {},
   "outputs": [],
   "source": [
    "numeros_vistos = set()"
   ]
  },
  {
   "cell_type": "code",
   "execution_count": 28,
   "id": "cea855fc",
   "metadata": {},
   "outputs": [],
   "source": [
    "def es_feliz(numero):\n",
    "    numeros_vistos = set()\n",
    "    while numero>1 and numero not in numeros_vistos:\n",
    "        numero = potencia_digitos(numero)\n",
    "        numeros_vistos.add(numero)\n",
    "    return numero == 1\n",
    "          \n",
    "    "
   ]
  },
  {
   "cell_type": "code",
   "execution_count": 29,
   "id": "f6122598",
   "metadata": {},
   "outputs": [],
   "source": [
    "def potencia_digitos(numero):\n",
    "    digitos = [int(a) for a in str(numero)]\n",
    "    suma = sum([x ** 2 for x in digitos])\n",
    "    return suma"
   ]
  },
  {
   "cell_type": "code",
   "execution_count": 27,
   "id": "b8817bcc",
   "metadata": {},
   "outputs": [
    {
     "data": {
      "text/plain": [
       "False"
      ]
     },
     "execution_count": 27,
     "metadata": {},
     "output_type": "execute_result"
    }
   ],
   "source": [
    "es_feliz(19)"
   ]
  },
  {
   "cell_type": "code",
   "execution_count": 1,
   "id": "ae0984f2",
   "metadata": {},
   "outputs": [],
   "source": [
    "#########################"
   ]
  },
  {
   "cell_type": "code",
   "execution_count": 2,
   "id": "b44a05b4",
   "metadata": {},
   "outputs": [
    {
     "name": "stdout",
     "output_type": "stream",
     "text": [
      "{'id_recorrido': '10758473BAEcobici', 'duracion_recorrido': '591', 'fecha_origen_recorrido': '2021-04-10 20:38:24 UTC', 'id_estacion_origen': '2BAEcobici', 'nombre_estacion_origen': '002 - Retiro I', 'direccion_estacion_origen': 'Ramos Mejia, Jose Maria, Dr. Av. & Del Libertador Av.', 'long_estacion_origen': '-58.3747151', 'lat_estacion_origen': '-34.5924233', 'fecha_destino_recorrido': '2021-04-10 20:48:15 UTC', 'id_estacion_destino': '95BAEcobici', 'nombre_estacion_destino': '095 - ESMERALDA', 'direccion_estacion_destino': 'ESMERALDA 516', 'long_estacion_destino': '-58.3781678', 'lat_estacion_destino': '-34.6021121', 'id_usuario': '86840BAEcobici', 'modelo_bicicleta': 'ICONIC'}\n",
      "{'id_recorrido': '10757803BAEcobici', 'duracion_recorrido': '1321', 'fecha_origen_recorrido': '2021-04-10 16:34:08 UTC', 'id_estacion_origen': '2BAEcobici', 'nombre_estacion_origen': '002 - Retiro I', 'direccion_estacion_origen': 'Ramos Mejia, Jose Maria, Dr. Av. & Del Libertador Av.', 'long_estacion_origen': '-58.3747151', 'lat_estacion_origen': '-34.5924233', 'fecha_destino_recorrido': '2021-04-10 16:56:09 UTC', 'id_estacion_destino': '73BAEcobici', 'nombre_estacion_destino': '073 - Ruy Díaz de Guzmán', 'direccion_estacion_destino': 'Avenida Martin Garcia y Ruy Díaz de Guzmán', 'long_estacion_destino': '-58.3718235', 'lat_estacion_destino': '-34.6306814', 'id_usuario': '52860BAEcobici', 'modelo_bicicleta': 'ICONIC'}\n",
      "{'id_recorrido': '10756603BAEcobici', 'duracion_recorrido': '380', 'fecha_origen_recorrido': '2021-04-10 07:06:00 UTC', 'id_estacion_origen': '3BAEcobici', 'nombre_estacion_origen': '003 - ADUANA', 'direccion_estacion_origen': 'Moreno & Av Paseo Colon', 'long_estacion_origen': '-58.3682604', 'lat_estacion_origen': '-34.611032', 'fecha_destino_recorrido': '2021-04-10 07:12:20 UTC', 'id_estacion_destino': '150BAEcobici', 'nombre_estacion_destino': '150 - RODRIGO BUENO', 'direccion_estacion_destino': 'Av. España 2200', 'long_estacion_destino': '-58.3554654', 'lat_estacion_destino': '-34.6187547', 'id_usuario': '375594BAEcobici', 'modelo_bicicleta': 'ICONIC'}\n",
      "{'id_recorrido': '10756618BAEcobici', 'duracion_recorrido': '1436', 'fecha_origen_recorrido': '2021-04-10 07:25:08 UTC', 'id_estacion_origen': '4BAEcobici', 'nombre_estacion_origen': '004 - Plaza Roma', 'direccion_estacion_origen': 'Lavalle & Bouchard', 'long_estacion_origen': '-58.368781', 'lat_estacion_origen': '-34.601822', 'fecha_destino_recorrido': '2021-04-10 07:49:04 UTC', 'id_estacion_destino': '353BAEcobici', 'nombre_estacion_destino': '237 - Madero Office', 'direccion_estacion_destino': '367 Sanchez De Thompson, Mariquita', 'long_estacion_destino': '-58.364695', 'lat_estacion_destino': '-34.599036', 'id_usuario': '489972BAEcobici', 'modelo_bicicleta': 'ICONIC'}\n",
      "{'id_recorrido': '10757830BAEcobici', 'duracion_recorrido': '3736', 'fecha_origen_recorrido': '2021-04-10 16:45:01 UTC', 'id_estacion_origen': '4BAEcobici', 'nombre_estacion_origen': '004 - Plaza Roma', 'direccion_estacion_origen': 'Lavalle & Bouchard', 'long_estacion_origen': '-58.368781', 'lat_estacion_origen': '-34.601822', 'fecha_destino_recorrido': '2021-04-10 17:47:17 UTC', 'id_estacion_destino': '207BAEcobici', 'nombre_estacion_destino': '123 - BASUALDO Y RODO', 'direccion_estacion_destino': 'Basualdo 1218', 'long_estacion_destino': '-58.4926339870569', 'lat_estacion_destino': '-34.649323859081555', 'id_usuario': '77965BAEcobici', 'modelo_bicicleta': 'ICONIC'}\n",
      "{'id_recorrido': '10757832BAEcobici', 'duracion_recorrido': '3681', 'fecha_origen_recorrido': '2021-04-10 16:45:11 UTC', 'id_estacion_origen': '4BAEcobici', 'nombre_estacion_origen': '004 - Plaza Roma', 'direccion_estacion_origen': 'Lavalle & Bouchard', 'long_estacion_origen': '-58.368781', 'lat_estacion_origen': '-34.601822', 'fecha_destino_recorrido': '2021-04-10 17:46:32 UTC', 'id_estacion_destino': '207BAEcobici', 'nombre_estacion_destino': '123 - BASUALDO Y RODO', 'direccion_estacion_destino': 'Basualdo 1218', 'long_estacion_destino': '-58.4926339870569', 'lat_estacion_destino': '-34.649323859081555', 'id_usuario': '764009BAEcobici', 'modelo_bicicleta': 'ICONIC'}\n",
      "{'id_recorrido': '10757829BAEcobici', 'duracion_recorrido': '3713', 'fecha_origen_recorrido': '2021-04-10 16:44:39 UTC', 'id_estacion_origen': '4BAEcobici', 'nombre_estacion_origen': '004 - Plaza Roma', 'direccion_estacion_origen': 'Lavalle & Bouchard', 'long_estacion_origen': '-58.368781', 'lat_estacion_origen': '-34.601822', 'fecha_destino_recorrido': '2021-04-10 17:46:32 UTC', 'id_estacion_destino': '207BAEcobici', 'nombre_estacion_destino': '123 - BASUALDO Y RODO', 'direccion_estacion_destino': 'Basualdo 1218', 'long_estacion_destino': '-58.4926339870569', 'lat_estacion_destino': '-34.649323859081555', 'id_usuario': '761492BAEcobici', 'modelo_bicicleta': 'ICONIC'}\n",
      "{'id_recorrido': '10757960BAEcobici', 'duracion_recorrido': '250', 'fecha_origen_recorrido': '2021-04-10 17:17:04 UTC', 'id_estacion_origen': '4BAEcobici', 'nombre_estacion_origen': '004 - Plaza Roma', 'direccion_estacion_origen': 'Lavalle & Bouchard', 'long_estacion_origen': '-58.368781', 'lat_estacion_origen': '-34.601822', 'fecha_destino_recorrido': '2021-04-10 17:21:14 UTC', 'id_estacion_destino': '26BAEcobici', 'nombre_estacion_destino': '026 - JUANA MANSO I', 'direccion_estacion_destino': 'Manso Juana & De La Barra, Emma', 'long_estacion_destino': '-58.3638723', 'lat_estacion_destino': '-34.600752', 'id_usuario': '728814BAEcobici', 'modelo_bicicleta': 'ICONIC'}\n",
      "{'id_recorrido': '10758607BAEcobici', 'duracion_recorrido': '575', 'fecha_origen_recorrido': '2021-04-10 21:52:49 UTC', 'id_estacion_origen': '6BAEcobici', 'nombre_estacion_origen': '006 - Parque Lezama', 'direccion_estacion_origen': 'Avenida Martin Garcia, 295', 'long_estacion_origen': '-58.369758', 'lat_estacion_origen': '-34.628526', 'fecha_destino_recorrido': '2021-04-10 22:02:24 UTC', 'id_estacion_destino': '179BAEcobici', 'nombre_estacion_destino': '179 - CASA SAN', 'direccion_estacion_destino': 'Olavarría 811', 'long_estacion_destino': '-58.3642885', 'lat_estacion_destino': '-34.6384786', 'id_usuario': '53916BAEcobici', 'modelo_bicicleta': 'ICONIC'}\n",
      "{'id_recorrido': '10757608BAEcobici', 'duracion_recorrido': '1154', 'fecha_origen_recorrido': '2021-04-10 15:36:07 UTC', 'id_estacion_origen': '6BAEcobici', 'nombre_estacion_origen': '006 - Parque Lezama', 'direccion_estacion_origen': 'Avenida Martin Garcia, 295', 'long_estacion_origen': '-58.369758', 'lat_estacion_origen': '-34.628526', 'fecha_destino_recorrido': '2021-04-10 15:55:21 UTC', 'id_estacion_destino': '23BAEcobici', 'nombre_estacion_destino': '023 - Suipacha', 'direccion_estacion_destino': 'Suipacha & Viamonte', 'long_estacion_destino': '-58.379836', 'lat_estacion_destino': '-34.600139', 'id_usuario': '683787BAEcobici', 'modelo_bicicleta': 'ICONIC'}\n",
      "{'id_recorrido': '10757195BAEcobici', 'duracion_recorrido': '812', 'fecha_origen_recorrido': '2021-04-10 12:07:00 UTC', 'id_estacion_origen': '6BAEcobici', 'nombre_estacion_origen': '006 - Parque Lezama', 'direccion_estacion_origen': 'Avenida Martin Garcia, 295', 'long_estacion_origen': '-58.369758', 'lat_estacion_origen': '-34.628526', 'fecha_destino_recorrido': '2021-04-10 12:20:32 UTC', 'id_estacion_destino': '153BAEcobici', 'nombre_estacion_destino': '153 - JUAN MANUEL DE BLANES', 'direccion_estacion_destino': '383 Blanes, Juan Manuel', 'long_estacion_destino': '-58.3620701', 'lat_estacion_destino': '-34.6307765', 'id_usuario': '177194BAEcobici', 'modelo_bicicleta': 'ICONIC'}\n",
      "{'id_recorrido': '10757198BAEcobici', 'duracion_recorrido': '696', 'fecha_origen_recorrido': '2021-04-10 12:08:43 UTC', 'id_estacion_origen': '6BAEcobici', 'nombre_estacion_origen': '006 - Parque Lezama', 'direccion_estacion_origen': 'Avenida Martin Garcia, 295', 'long_estacion_origen': '-58.369758', 'lat_estacion_origen': '-34.628526', 'fecha_destino_recorrido': '2021-04-10 12:20:19 UTC', 'id_estacion_destino': '153BAEcobici', 'nombre_estacion_destino': '153 - JUAN MANUEL DE BLANES', 'direccion_estacion_destino': '383 Blanes, Juan Manuel', 'long_estacion_destino': '-58.3620701', 'lat_estacion_destino': '-34.6307765', 'id_usuario': '174731BAEcobici', 'modelo_bicicleta': 'ICONIC'}\n",
      "{'id_recorrido': '10756836BAEcobici', 'duracion_recorrido': '873', 'fecha_origen_recorrido': '2021-04-10 09:39:10 UTC', 'id_estacion_origen': '6BAEcobici', 'nombre_estacion_origen': '006 - Parque Lezama', 'direccion_estacion_origen': 'Avenida Martin Garcia, 295', 'long_estacion_origen': '-58.369758', 'lat_estacion_origen': '-34.628526', 'fecha_destino_recorrido': '2021-04-10 09:53:43 UTC', 'id_estacion_destino': '175BAEcobici', 'nombre_estacion_destino': '147 - Constitución', 'direccion_estacion_destino': 'Avenida Juan de Garay 1050', 'long_estacion_destino': '-58.380707', 'lat_estacion_destino': '-34.626851', 'id_usuario': '673290BAEcobici', 'modelo_bicicleta': 'ICONIC'}\n",
      "{'id_recorrido': '10758021BAEcobici', 'duracion_recorrido': '855', 'fecha_origen_recorrido': '2021-04-10 17:36:50 UTC', 'id_estacion_origen': '6BAEcobici', 'nombre_estacion_origen': '006 - Parque Lezama', 'direccion_estacion_origen': 'Avenida Martin Garcia, 295', 'long_estacion_origen': '-58.369758', 'lat_estacion_origen': '-34.628526', 'fecha_destino_recorrido': '2021-04-10 17:51:05 UTC', 'id_estacion_destino': '95BAEcobici', 'nombre_estacion_destino': '095 - ESMERALDA', 'direccion_estacion_destino': 'ESMERALDA 516', 'long_estacion_destino': '-58.3781678', 'lat_estacion_destino': '-34.6021121', 'id_usuario': '591287BAEcobici', 'modelo_bicicleta': 'ICONIC'}\n",
      "{'id_recorrido': '10758510BAEcobici', 'duracion_recorrido': '1053', 'fecha_origen_recorrido': '2021-04-10 20:51:15 UTC', 'id_estacion_origen': '7BAEcobici', 'nombre_estacion_origen': '007 - OBELISCO', 'direccion_estacion_origen': 'CARLOS PELEGRINI 215', 'long_estacion_origen': '-58.381098', 'lat_estacion_origen': '-34.606498', 'fecha_destino_recorrido': '2021-04-10 21:08:48 UTC', 'id_estacion_destino': '86BAEcobici', 'nombre_estacion_destino': '086 - SAAVEDRA', 'direccion_estacion_destino': '1019 Saavedra', 'long_estacion_destino': '-58.4016808', 'lat_estacion_destino': '-34.6212681', 'id_usuario': '755263BAEcobici', 'modelo_bicicleta': 'ICONIC'}\n",
      "{'id_recorrido': '10756816BAEcobici', 'duracion_recorrido': '1673', 'fecha_origen_recorrido': '2021-04-10 09:30:37 UTC', 'id_estacion_origen': '12BAEcobici', 'nombre_estacion_origen': '012 - Plaza Vicente Lopez', 'direccion_estacion_origen': 'Parana & Juncal', 'long_estacion_origen': '-58.388807', 'lat_estacion_origen': '-34.5927096', 'fecha_destino_recorrido': '2021-04-10 09:58:30 UTC', 'id_estacion_destino': '441BAEcobici', 'nombre_estacion_destino': '016 - Legislatura', 'direccion_estacion_destino': '169 Peru & Roca, Julio A., Presidente Diagonal Sur Av.', 'long_estacion_destino': '-58.3748', 'lat_estacion_destino': '-34.609801', 'id_usuario': '733465BAEcobici', 'modelo_bicicleta': 'ICONIC'}\n",
      "{'id_recorrido': '10756657BAEcobici', 'duracion_recorrido': '428', 'fecha_origen_recorrido': '2021-04-10 07:45:39 UTC', 'id_estacion_origen': '12BAEcobici', 'nombre_estacion_origen': '012 - Plaza Vicente Lopez', 'direccion_estacion_origen': 'Parana & Juncal', 'long_estacion_origen': '-58.388807', 'lat_estacion_origen': '-34.5927096', 'fecha_destino_recorrido': '2021-04-10 07:52:47 UTC', 'id_estacion_destino': '35BAEcobici', 'nombre_estacion_destino': '035 - INGENIERO BUTTY', 'direccion_estacion_destino': 'Ing. E. Butty 291', 'long_estacion_destino': '-58.371847', 'lat_estacion_destino': '-34.5964246', 'id_usuario': '314800BAEcobici', 'modelo_bicicleta': 'ICONIC'}\n",
      "{'id_recorrido': '10757345BAEcobici', 'duracion_recorrido': '641', 'fecha_origen_recorrido': '2021-04-10 13:40:24 UTC', 'id_estacion_origen': '12BAEcobici', 'nombre_estacion_origen': '012 - Plaza Vicente Lopez', 'direccion_estacion_origen': 'Parana & Juncal', 'long_estacion_origen': '-58.388807', 'lat_estacion_origen': '-34.5927096', 'fecha_destino_recorrido': '2021-04-10 13:51:05 UTC', 'id_estacion_destino': '200BAEcobici', 'nombre_estacion_destino': '200 - AUSTRIA Y FRENCH', 'direccion_estacion_destino': 'Austria 2075', 'long_estacion_destino': '-58.405361700000007', 'lat_estacion_destino': '-34.5890696', 'id_usuario': '117060BAEcobici', 'modelo_bicicleta': 'ICONIC'}\n",
      "{'id_recorrido': '10757408BAEcobici', 'duracion_recorrido': '2614', 'fecha_origen_recorrido': '2021-04-10 14:11:47 UTC', 'id_estacion_origen': '12BAEcobici', 'nombre_estacion_origen': '012 - Plaza Vicente Lopez', 'direccion_estacion_origen': 'Parana & Juncal', 'long_estacion_origen': '-58.388807', 'lat_estacion_origen': '-34.5927096', 'fecha_destino_recorrido': '2021-04-10 14:55:21 UTC', 'id_estacion_destino': '117BAEcobici', 'nombre_estacion_destino': '117 - HUMBERTO 1°', 'direccion_estacion_destino': 'Peru  1016', 'long_estacion_destino': '-58.3741759', 'lat_estacion_destino': '-34.6201008', 'id_usuario': '672777BAEcobici', 'modelo_bicicleta': 'ICONIC'}\n",
      "{'id_recorrido': '10758461BAEcobici', 'duracion_recorrido': '239', 'fecha_origen_recorrido': '2021-04-10 20:30:54 UTC', 'id_estacion_origen': '12BAEcobici', 'nombre_estacion_origen': '012 - Plaza Vicente Lopez', 'direccion_estacion_origen': 'Parana & Juncal', 'long_estacion_origen': '-58.388807', 'lat_estacion_origen': '-34.5927096', 'fecha_destino_recorrido': '2021-04-10 20:34:53 UTC', 'id_estacion_destino': '189BAEcobici', 'nombre_estacion_destino': '189 - POSADAS', 'direccion_estacion_destino': '1350 Posadas', 'long_estacion_destino': '-58.3852113', 'lat_estacion_destino': '-34.5886889', 'id_usuario': '224035BAEcobici', 'modelo_bicicleta': 'ICONIC'}\n",
      "{'id_recorrido': '10758127BAEcobici', 'duracion_recorrido': '1341', 'fecha_origen_recorrido': '2021-04-10 18:13:59 UTC', 'id_estacion_origen': '12BAEcobici', 'nombre_estacion_origen': '012 - Plaza Vicente Lopez', 'direccion_estacion_origen': 'Parana & Juncal', 'long_estacion_origen': '-58.388807', 'lat_estacion_origen': '-34.5927096', 'fecha_destino_recorrido': '2021-04-10 18:36:20 UTC', 'id_estacion_destino': '161BAEcobici', 'nombre_estacion_destino': '161 - Humahuaca', 'direccion_estacion_destino': '3912 Humahuaca', 'long_estacion_destino': '-58.4196761', 'lat_estacion_destino': '-34.6020779', 'id_usuario': '2856BAEcobici', 'modelo_bicicleta': 'ICONIC'}\n",
      "{'id_recorrido': '10758130BAEcobici', 'duracion_recorrido': '2668', 'fecha_origen_recorrido': '2021-04-10 18:14:47 UTC', 'id_estacion_origen': '12BAEcobici', 'nombre_estacion_origen': '012 - Plaza Vicente Lopez', 'direccion_estacion_origen': 'Parana & Juncal', 'long_estacion_origen': '-58.388807', 'lat_estacion_origen': '-34.5927096', 'fecha_destino_recorrido': '2021-04-10 18:59:15 UTC', 'id_estacion_destino': '275BAEcobici', 'nombre_estacion_destino': '256 - PLAZA NORUEGA', 'direccion_estacion_destino': 'Amenabar y Mendoza', 'long_estacion_destino': '-58.459148', 'lat_estacion_destino': '-34.562396', 'id_usuario': '63303BAEcobici', 'modelo_bicicleta': 'ICONIC'}\n",
      "{'id_recorrido': '10757241BAEcobici', 'duracion_recorrido': '1695', 'fecha_origen_recorrido': '2021-04-10 12:42:01 UTC', 'id_estacion_origen': '12BAEcobici', 'nombre_estacion_origen': '012 - Plaza Vicente Lopez', 'direccion_estacion_origen': 'Parana & Juncal', 'long_estacion_origen': '-58.388807', 'lat_estacion_origen': '-34.5927096', 'fecha_destino_recorrido': '2021-04-10 13:10:16 UTC', 'id_estacion_destino': '203BAEcobici', 'nombre_estacion_destino': '108 - Usina del Arte', 'direccion_estacion_destino': 'Caffarena, Agustin R. & Don Pedro De Mendoza Av.', 'long_estacion_destino': '-58.356259', 'lat_estacion_destino': '-34.628757', 'id_usuario': '190243BAEcobici', 'modelo_bicicleta': 'ICONIC'}\n",
      "{'id_recorrido': '10757474BAEcobici', 'duracion_recorrido': '1042', 'fecha_origen_recorrido': '2021-04-10 14:39:14 UTC', 'id_estacion_origen': '12BAEcobici', 'nombre_estacion_origen': '012 - Plaza Vicente Lopez', 'direccion_estacion_origen': 'Parana & Juncal', 'long_estacion_origen': '-58.388807', 'lat_estacion_origen': '-34.5927096', 'fecha_destino_recorrido': '2021-04-10 14:56:36 UTC', 'id_estacion_destino': '5BAEcobici', 'nombre_estacion_destino': '005 - Plaza Italia', 'direccion_estacion_destino': 'Av. Sarmiento 2601', 'long_estacion_destino': '-58.4209542', 'lat_estacion_destino': '-34.5805497', 'id_usuario': '296021BAEcobici', 'modelo_bicicleta': 'ICONIC'}\n",
      "{'id_recorrido': '10757210BAEcobici', 'duracion_recorrido': '1041', 'fecha_origen_recorrido': '2021-04-10 12:15:22 UTC', 'id_estacion_origen': '13BAEcobici', 'nombre_estacion_origen': '013 - ONCE', 'direccion_estacion_origen': 'Av. Pueyrredon & Av. Rivadavia', 'long_estacion_origen': '-58.406', 'lat_estacion_origen': '-34.61009', 'fecha_destino_recorrido': '2021-04-10 12:32:43 UTC', 'id_estacion_destino': '96BAEcobici', 'nombre_estacion_destino': '096 - Carlos Gardel', 'direccion_estacion_destino': '3302 Guardia Vieja & Aguero', 'long_estacion_destino': '-58.4116586', 'lat_estacion_destino': '-34.6027814', 'id_usuario': '87481BAEcobici', 'modelo_bicicleta': 'ICONIC'}\n",
      "{'id_recorrido': '10756724BAEcobici', 'duracion_recorrido': '1255', 'fecha_origen_recorrido': '2021-04-10 08:38:25 UTC', 'id_estacion_origen': '13BAEcobici', 'nombre_estacion_origen': '013 - ONCE', 'direccion_estacion_origen': 'Av. Pueyrredon & Av. Rivadavia', 'long_estacion_origen': '-58.406', 'lat_estacion_origen': '-34.61009', 'fecha_destino_recorrido': '2021-04-10 08:59:20 UTC', 'id_estacion_destino': '66BAEcobici', 'nombre_estacion_destino': '066 - Billinghurst', 'direccion_estacion_destino': '3508 Carcova', 'long_estacion_destino': '-58.4138713', 'lat_estacion_destino': '-34.5945475', 'id_usuario': '763324BAEcobici', 'modelo_bicicleta': 'ICONIC'}\n",
      "{'id_recorrido': '10757700BAEcobici', 'duracion_recorrido': '2712', 'fecha_origen_recorrido': '2021-04-10 16:05:28 UTC', 'id_estacion_origen': '13BAEcobici', 'nombre_estacion_origen': '013 - ONCE', 'direccion_estacion_origen': 'Av. Pueyrredon & Av. Rivadavia', 'long_estacion_origen': '-58.406', 'lat_estacion_origen': '-34.61009', 'fecha_destino_recorrido': '2021-04-10 16:50:40 UTC', 'id_estacion_destino': '364BAEcobici', 'nombre_estacion_destino': '381 - Matienzo Y Arce', 'direccion_estacion_destino': '1798 Matienzo, Benjamin, Teniente', 'long_estacion_destino': '-58.43447', 'lat_estacion_destino': '-34.568693', 'id_usuario': '723366BAEcobici', 'modelo_bicicleta': 'ICONIC'}\n",
      "{'id_recorrido': '10757574BAEcobici', 'duracion_recorrido': '920', 'fecha_origen_recorrido': '2021-04-10 15:23:44 UTC', 'id_estacion_origen': '21BAEcobici', 'nombre_estacion_origen': '021 - Parque Patricios', 'direccion_estacion_origen': 'Iguazu & Uspallata', 'long_estacion_origen': '-58.406432', 'lat_estacion_origen': '-34.640111', 'fecha_destino_recorrido': '2021-04-10 15:39:04 UTC', 'id_estacion_destino': '86BAEcobici', 'nombre_estacion_destino': '086 - SAAVEDRA', 'direccion_estacion_destino': '1019 Saavedra', 'long_estacion_destino': '-58.4016808', 'lat_estacion_destino': '-34.6212681', 'id_usuario': '46953BAEcobici', 'modelo_bicicleta': 'ICONIC'}\n",
      "{'id_recorrido': '10756171BAEcobici', 'duracion_recorrido': '1433', 'fecha_origen_recorrido': '2021-04-10 00:52:54 UTC', 'id_estacion_origen': '22BAEcobici', 'nombre_estacion_origen': '022 - Arenales', 'direccion_estacion_origen': 'Cerrito & Arenales', 'long_estacion_origen': '-58.3825498', 'lat_estacion_origen': '-34.5938629', 'fecha_destino_recorrido': '2021-04-10 01:16:47 UTC', 'id_estacion_destino': '212BAEcobici', 'nombre_estacion_destino': '129 - Velasco', 'direccion_estacion_destino': 'J.Ramirez de Velasco 285', 'long_estacion_destino': '-58.434875', 'lat_estacion_destino': '-34.600275', 'id_usuario': '9845BAEcobici', 'modelo_bicicleta': 'ICONIC'}\n",
      "{'id_recorrido': '10758415BAEcobici', 'duracion_recorrido': '1941', 'fecha_origen_recorrido': '2021-04-10 20:07:53 UTC', 'id_estacion_origen': '22BAEcobici', 'nombre_estacion_origen': '022 - Arenales', 'direccion_estacion_origen': 'Cerrito & Arenales', 'long_estacion_origen': '-58.3825498', 'lat_estacion_origen': '-34.5938629', 'fecha_destino_recorrido': '2021-04-10 20:40:14 UTC', 'id_estacion_destino': '22BAEcobici', 'nombre_estacion_destino': '022 - Arenales', 'direccion_estacion_destino': 'Cerrito & Arenales', 'long_estacion_destino': '-58.3825498', 'lat_estacion_destino': '-34.5938629', 'id_usuario': '699929BAEcobici', 'modelo_bicicleta': 'ICONIC'}\n",
      "{'id_recorrido': '10756761BAEcobici', 'duracion_recorrido': '1958', 'fecha_origen_recorrido': '2021-04-10 08:57:10 UTC', 'id_estacion_origen': '22BAEcobici', 'nombre_estacion_origen': '022 - Arenales', 'direccion_estacion_origen': 'Cerrito & Arenales', 'long_estacion_origen': '-58.3825498', 'lat_estacion_origen': '-34.5938629', 'fecha_destino_recorrido': '2021-04-10 09:29:48 UTC', 'id_estacion_destino': '14BAEcobici', 'nombre_estacion_destino': '014 - Pacifico', 'direccion_estacion_destino': 'Santa Fe Av. & Bullrich, Int. Av.', 'long_estacion_destino': '-58.426387', 'lat_estacion_destino': '-34.577424', 'id_usuario': '42147BAEcobici', 'modelo_bicicleta': 'ICONIC'}\n",
      "{'id_recorrido': '10757136BAEcobici', 'duracion_recorrido': '270', 'fecha_origen_recorrido': '2021-04-10 11:22:41 UTC', 'id_estacion_origen': '22BAEcobici', 'nombre_estacion_origen': '022 - Arenales', 'direccion_estacion_origen': 'Cerrito & Arenales', 'long_estacion_origen': '-58.3825498', 'lat_estacion_origen': '-34.5938629', 'fecha_destino_recorrido': '2021-04-10 11:27:11 UTC', 'id_estacion_destino': '51BAEcobici', 'nombre_estacion_destino': '051 - TUCUMAN', 'direccion_estacion_destino': 'Tucuman & 9 De Julio Av.', 'long_estacion_destino': '-58.3821261', 'lat_estacion_destino': '-34.6014776', 'id_usuario': '705953BAEcobici', 'modelo_bicicleta': 'ICONIC'}\n",
      "{'id_recorrido': '10757702BAEcobici', 'duracion_recorrido': '2776', 'fecha_origen_recorrido': '2021-04-10 16:05:41 UTC', 'id_estacion_origen': '22BAEcobici', 'nombre_estacion_origen': '022 - Arenales', 'direccion_estacion_origen': 'Cerrito & Arenales', 'long_estacion_origen': '-58.3825498', 'lat_estacion_origen': '-34.5938629', 'fecha_destino_recorrido': '2021-04-10 16:51:57 UTC', 'id_estacion_destino': '355BAEcobici', 'nombre_estacion_destino': '242 - Plazoleta Rafael del Riego', 'direccion_estacion_destino': 'o´higins 1327', 'long_estacion_destino': '-58.446381', 'lat_estacion_destino': '-34.567483', 'id_usuario': '262888BAEcobici', 'modelo_bicicleta': 'ICONIC'}\n",
      "{'id_recorrido': '10757706BAEcobici', 'duracion_recorrido': '651', 'fecha_origen_recorrido': '2021-04-10 16:07:05 UTC', 'id_estacion_origen': '23BAEcobici', 'nombre_estacion_origen': '023 - Suipacha', 'direccion_estacion_origen': 'Suipacha & Viamonte', 'long_estacion_origen': '-58.379836', 'lat_estacion_origen': '-34.600139', 'fecha_destino_recorrido': '2021-04-10 16:17:56 UTC', 'id_estacion_destino': '7BAEcobici', 'nombre_estacion_destino': '007 - OBELISCO', 'direccion_estacion_destino': 'CARLOS PELEGRINI 215', 'long_estacion_destino': '-58.381098', 'lat_estacion_destino': '-34.606498', 'id_usuario': '733530BAEcobici', 'modelo_bicicleta': 'ICONIC'}\n",
      "{'id_recorrido': '10757728BAEcobici', 'duracion_recorrido': '8653', 'fecha_origen_recorrido': '2021-04-10 16:12:52 UTC', 'id_estacion_origen': '23BAEcobici', 'nombre_estacion_origen': '023 - Suipacha', 'direccion_estacion_origen': 'Suipacha & Viamonte', 'long_estacion_origen': '-58.379836', 'lat_estacion_origen': '-34.600139', 'fecha_destino_recorrido': '2021-04-10 18:37:05 UTC', 'id_estacion_destino': '166BAEcobici', 'nombre_estacion_destino': '166 - Cementerio de Recoleta', 'direccion_estacion_destino': 'Vicente López 2100', 'long_estacion_destino': '-58.394147942865644', 'lat_estacion_destino': '-34.588346663239754', 'id_usuario': '761152BAEcobici', 'modelo_bicicleta': 'ICONIC'}\n",
      "{'id_recorrido': '10757749BAEcobici', 'duracion_recorrido': '2545', 'fecha_origen_recorrido': '2021-04-10 16:18:45 UTC', 'id_estacion_origen': '23BAEcobici', 'nombre_estacion_origen': '023 - Suipacha', 'direccion_estacion_origen': 'Suipacha & Viamonte', 'long_estacion_origen': '-58.379836', 'lat_estacion_origen': '-34.600139', 'fecha_destino_recorrido': '2021-04-10 17:01:10 UTC', 'id_estacion_destino': '166BAEcobici', 'nombre_estacion_destino': '166 - Cementerio de Recoleta', 'direccion_estacion_destino': 'Vicente López 2100', 'long_estacion_destino': '-58.394147942865644', 'lat_estacion_destino': '-34.588346663239754', 'id_usuario': '764014BAEcobici', 'modelo_bicicleta': 'ICONIC'}\n",
      "{'id_recorrido': '10757238BAEcobici', 'duracion_recorrido': '1815', 'fecha_origen_recorrido': '2021-04-10 12:39:14 UTC', 'id_estacion_origen': '24BAEcobici', 'nombre_estacion_origen': '024 - ALSINA', 'direccion_estacion_origen': 'Adolfo Alsina& Bernardo De Irigoyen', 'long_estacion_origen': '-58.3808943', 'lat_estacion_origen': '-34.610583', 'fecha_destino_recorrido': '2021-04-10 13:09:29 UTC', 'id_estacion_destino': '291BAEcobici', 'nombre_estacion_destino': '244 - UADE', 'direccion_estacion_destino': 'Lima 750', 'long_estacion_destino': '-58.381627', 'lat_estacion_destino': '-34.617247', 'id_usuario': '684421BAEcobici', 'modelo_bicicleta': 'ICONIC'}\n",
      "{'id_recorrido': '10758189BAEcobici', 'duracion_recorrido': '568', 'fecha_origen_recorrido': '2021-04-10 18:37:05 UTC', 'id_estacion_origen': '27BAEcobici', 'nombre_estacion_origen': '027 - Montevideo', 'direccion_estacion_origen': 'Cordoba Av. & Montevideo', 'long_estacion_origen': '-58.3900887', 'lat_estacion_origen': '-34.599068', 'fecha_destino_recorrido': '2021-04-10 18:46:33 UTC', 'id_estacion_destino': '165BAEcobici', 'nombre_estacion_destino': '165 - PLAZA MONSEÑOR MIGUEL DE ANDREA', 'direccion_estacion_destino': 'Dr Tomas Manuel De  Anchorena &  Jose A. Cabrera', 'long_estacion_destino': '-58.407614', 'lat_estacion_destino': '-34.597048', 'id_usuario': '760106BAEcobici', 'modelo_bicicleta': 'ICONIC'}\n",
      "{'id_recorrido': '10756048BAEcobici', 'duracion_recorrido': '760', 'fecha_origen_recorrido': '2021-04-10 00:07:42 UTC', 'id_estacion_origen': '27BAEcobici', 'nombre_estacion_origen': '027 - Montevideo', 'direccion_estacion_origen': 'Cordoba Av. & Montevideo', 'long_estacion_origen': '-58.3900887', 'lat_estacion_origen': '-34.599068', 'fecha_destino_recorrido': '2021-04-10 00:20:22 UTC', 'id_estacion_destino': '93BAEcobici', 'nombre_estacion_destino': '093 - CARLOS CALVO', 'direccion_estacion_destino': 'Sarandi 1010', 'long_estacion_destino': '-58.3944635', 'lat_estacion_destino': '-34.620798', 'id_usuario': '118609BAEcobici', 'modelo_bicicleta': 'ICONIC'}\n",
      "{'id_recorrido': '10757281BAEcobici', 'duracion_recorrido': '625', 'fecha_origen_recorrido': '2021-04-10 13:15:48 UTC', 'id_estacion_origen': '27BAEcobici', 'nombre_estacion_origen': '027 - Montevideo', 'direccion_estacion_origen': 'Cordoba Av. & Montevideo', 'long_estacion_origen': '-58.3900887', 'lat_estacion_origen': '-34.599068', 'fecha_destino_recorrido': '2021-04-10 13:26:13 UTC', 'id_estacion_destino': '165BAEcobici', 'nombre_estacion_destino': '165 - PLAZA MONSEÑOR MIGUEL DE ANDREA', 'direccion_estacion_destino': 'Dr Tomas Manuel De  Anchorena &  Jose A. Cabrera', 'long_estacion_destino': '-58.407614', 'lat_estacion_destino': '-34.597048', 'id_usuario': '592715BAEcobici', 'modelo_bicicleta': 'ICONIC'}\n",
      "{'id_recorrido': '10756053BAEcobici', 'duracion_recorrido': '935', 'fecha_origen_recorrido': '2021-04-10 00:09:01 UTC', 'id_estacion_origen': '27BAEcobici', 'nombre_estacion_origen': '027 - Montevideo', 'direccion_estacion_origen': 'Cordoba Av. & Montevideo', 'long_estacion_origen': '-58.3900887', 'lat_estacion_origen': '-34.599068', 'fecha_destino_recorrido': '2021-04-10 00:24:36 UTC', 'id_estacion_destino': '17BAEcobici', 'nombre_estacion_destino': '017 - Plaza Almagro', 'direccion_estacion_destino': '441 Bulnes & Peron, Juan Domingo, Tte. General', 'long_estacion_destino': '-58.4187306', 'lat_estacion_destino': '-34.6064101', 'id_usuario': '32446BAEcobici', 'modelo_bicicleta': 'ICONIC'}\n",
      "{'id_recorrido': '10756080BAEcobici', 'duracion_recorrido': '1468', 'fecha_origen_recorrido': '2021-04-10 00:15:25 UTC', 'id_estacion_origen': '27BAEcobici', 'nombre_estacion_origen': '027 - Montevideo', 'direccion_estacion_origen': 'Cordoba Av. & Montevideo', 'long_estacion_origen': '-58.3900887', 'lat_estacion_origen': '-34.599068', 'fecha_destino_recorrido': '2021-04-10 00:39:53 UTC', 'id_estacion_destino': '69BAEcobici', 'nombre_estacion_destino': '069 - Ecuador', 'direccion_estacion_destino': '1226 Ecuador & Mansilla, Lucio Norberto, General', 'long_estacion_destino': '-58.4046092', 'lat_estacion_destino': '-34.5961006', 'id_usuario': '717055BAEcobici', 'modelo_bicicleta': 'ICONIC'}\n",
      "{'id_recorrido': '10756694BAEcobici', 'duracion_recorrido': '2161', 'fecha_origen_recorrido': '2021-04-10 08:16:57 UTC', 'id_estacion_origen': '27BAEcobici', 'nombre_estacion_origen': '027 - Montevideo', 'direccion_estacion_origen': 'Cordoba Av. & Montevideo', 'long_estacion_origen': '-58.3900887', 'lat_estacion_origen': '-34.599068', 'fecha_destino_recorrido': '2021-04-10 08:52:58 UTC', 'id_estacion_destino': '242BAEcobici', 'nombre_estacion_destino': '103 - MALBA', 'direccion_estacion_destino': '3051 San Martin De Tours', 'long_estacion_destino': '-58.403214', 'lat_estacion_destino': '-34.57716', 'id_usuario': '631659BAEcobici', 'modelo_bicicleta': 'ICONIC'}\n",
      "{'id_recorrido': '10756680BAEcobici', 'duracion_recorrido': '499', 'fecha_origen_recorrido': '2021-04-10 08:06:17 UTC', 'id_estacion_origen': '27BAEcobici', 'nombre_estacion_origen': '027 - Montevideo', 'direccion_estacion_origen': 'Cordoba Av. & Montevideo', 'long_estacion_origen': '-58.3900887', 'lat_estacion_origen': '-34.599068', 'fecha_destino_recorrido': '2021-04-10 08:14:36 UTC', 'id_estacion_destino': '69BAEcobici', 'nombre_estacion_destino': '069 - Ecuador', 'direccion_estacion_destino': '1226 Ecuador & Mansilla, Lucio Norberto, General', 'long_estacion_destino': '-58.4046092', 'lat_estacion_destino': '-34.5961006', 'id_usuario': '668697BAEcobici', 'modelo_bicicleta': 'ICONIC'}\n",
      "{'id_recorrido': '10757732BAEcobici', 'duracion_recorrido': '1843', 'fecha_origen_recorrido': '2021-04-10 16:14:26 UTC', 'id_estacion_origen': '27BAEcobici', 'nombre_estacion_origen': '027 - Montevideo', 'direccion_estacion_origen': 'Cordoba Av. & Montevideo', 'long_estacion_origen': '-58.3900887', 'lat_estacion_origen': '-34.599068', 'fecha_destino_recorrido': '2021-04-10 16:45:09 UTC', 'id_estacion_destino': '281BAEcobici', 'nombre_estacion_destino': '350 - Plaza Irlanda', 'direccion_estacion_destino': 'Av. Gaona 2200', 'long_estacion_destino': '-58.458315', 'lat_estacion_destino': '-34.613778', 'id_usuario': '733429BAEcobici', 'modelo_bicicleta': 'ICONIC'}\n",
      "{'id_recorrido': '10758725BAEcobici', 'duracion_recorrido': '1147', 'fecha_origen_recorrido': '2021-04-10 23:52:40 UTC', 'id_estacion_origen': '27BAEcobici', 'nombre_estacion_origen': '027 - Montevideo', 'direccion_estacion_origen': 'Cordoba Av. & Montevideo', 'long_estacion_origen': '-58.3900887', 'lat_estacion_origen': '-34.599068', 'fecha_destino_recorrido': '2021-04-11 00:11:47 UTC', 'id_estacion_destino': '186BAEcobici', 'nombre_estacion_destino': '186 - MANZANA 66', 'direccion_estacion_destino': '2875 Moreno', 'long_estacion_destino': '-58.4064415', 'lat_estacion_destino': '-34.6136356', 'id_usuario': '667374BAEcobici', 'modelo_bicicleta': 'ICONIC'}\n",
      "{'id_recorrido': '10756734BAEcobici', 'duracion_recorrido': '325', 'fecha_origen_recorrido': '2021-04-10 08:42:17 UTC', 'id_estacion_origen': '32BAEcobici', 'nombre_estacion_origen': '032 - Catedral', 'direccion_estacion_origen': '67 San Martin', 'long_estacion_origen': '-58.3735984', 'lat_estacion_origen': '-34.6072074', 'fecha_destino_recorrido': '2021-04-10 08:47:42 UTC', 'id_estacion_destino': '111BAEcobici', 'nombre_estacion_destino': '111 - MACACHA GUEMES', 'direccion_estacion_destino': 'Machaca Guemes 350', 'long_estacion_destino': '-58.3646858', 'lat_estacion_destino': '-34.6054877', 'id_usuario': '12490BAEcobici', 'modelo_bicicleta': 'ICONIC'}\n",
      "{'id_recorrido': '10756773BAEcobici', 'duracion_recorrido': '1010', 'fecha_origen_recorrido': '2021-04-10 09:03:46 UTC', 'id_estacion_origen': '35BAEcobici', 'nombre_estacion_origen': '035 - INGENIERO BUTTY', 'direccion_estacion_origen': 'Ing. E. Butty 291', 'long_estacion_origen': '-58.371847', 'lat_estacion_origen': '-34.5964246', 'fecha_destino_recorrido': '2021-04-10 09:20:36 UTC', 'id_estacion_destino': '200BAEcobici', 'nombre_estacion_destino': '200 - AUSTRIA Y FRENCH', 'direccion_estacion_destino': 'Austria 2075', 'long_estacion_destino': '-58.405361700000007', 'lat_estacion_destino': '-34.5890696', 'id_usuario': '314800BAEcobici', 'modelo_bicicleta': 'ICONIC'}\n",
      "{'id_recorrido': '10756613BAEcobici', 'duracion_recorrido': '729', 'fecha_origen_recorrido': '2021-04-10 07:21:04 UTC', 'id_estacion_origen': '38BAEcobici', 'nombre_estacion_origen': '038 - Plaza Libertad', 'direccion_estacion_origen': 'Cerrito 990 y Av. Marcelo T. De Alvear', 'long_estacion_origen': '-58.3828403', 'lat_estacion_origen': '-34.5970497', 'fecha_destino_recorrido': '2021-04-10 07:33:13 UTC', 'id_estacion_destino': '111BAEcobici', 'nombre_estacion_destino': '111 - MACACHA GUEMES', 'direccion_estacion_destino': 'Machaca Guemes 350', 'long_estacion_destino': '-58.3646858', 'lat_estacion_destino': '-34.6054877', 'id_usuario': '316537BAEcobici', 'modelo_bicicleta': 'ICONIC'}\n",
      "{'id_recorrido': '10757516BAEcobici', 'duracion_recorrido': '2007', 'fecha_origen_recorrido': '2021-04-10 14:59:19 UTC', 'id_estacion_origen': '38BAEcobici', 'nombre_estacion_origen': '038 - Plaza Libertad', 'direccion_estacion_origen': 'Cerrito 990 y Av. Marcelo T. De Alvear', 'long_estacion_origen': '-58.3828403', 'lat_estacion_origen': '-34.5970497', 'fecha_destino_recorrido': '2021-04-10 15:32:46 UTC', 'id_estacion_destino': '38BAEcobici', 'nombre_estacion_destino': '038 - Plaza Libertad', 'direccion_estacion_destino': 'Cerrito 990 y Av. Marcelo T. De Alvear', 'long_estacion_destino': '-58.3828403', 'lat_estacion_destino': '-34.5970497', 'id_usuario': '79768BAEcobici', 'modelo_bicicleta': 'ICONIC'}\n",
      "{'id_recorrido': '10757587BAEcobici', 'duracion_recorrido': '2765', 'fecha_origen_recorrido': '2021-04-10 15:30:40 UTC', 'id_estacion_origen': '38BAEcobici', 'nombre_estacion_origen': '038 - Plaza Libertad', 'direccion_estacion_origen': 'Cerrito 990 y Av. Marcelo T. De Alvear', 'long_estacion_origen': '-58.3828403', 'lat_estacion_origen': '-34.5970497', 'fecha_destino_recorrido': '2021-04-10 16:16:45 UTC', 'id_estacion_destino': '220BAEcobici', 'nombre_estacion_destino': '097 - Avelino Diaz', 'direccion_estacion_destino': 'Avelino Diaz&Doblas', 'long_estacion_destino': '-58.427573', 'lat_estacion_destino': '-34.635128', 'id_usuario': '755307BAEcobici', 'modelo_bicicleta': 'ICONIC'}\n",
      "{'id_recorrido': '10757980BAEcobici', 'duracion_recorrido': '2799', 'fecha_origen_recorrido': '2021-04-10 17:23:30 UTC', 'id_estacion_origen': '38BAEcobici', 'nombre_estacion_origen': '038 - Plaza Libertad', 'direccion_estacion_origen': 'Cerrito 990 y Av. Marcelo T. De Alvear', 'long_estacion_origen': '-58.3828403', 'lat_estacion_origen': '-34.5970497', 'fecha_destino_recorrido': '2021-04-10 18:10:09 UTC', 'id_estacion_destino': '38BAEcobici', 'nombre_estacion_destino': '038 - Plaza Libertad', 'direccion_estacion_destino': 'Cerrito 990 y Av. Marcelo T. De Alvear', 'long_estacion_destino': '-58.3828403', 'lat_estacion_destino': '-34.5970497', 'id_usuario': '428945BAEcobici', 'modelo_bicicleta': 'ICONIC'}\n",
      "{'id_recorrido': '10758274BAEcobici', 'duracion_recorrido': '1081', 'fecha_origen_recorrido': '2021-04-10 19:15:29 UTC', 'id_estacion_origen': '38BAEcobici', 'nombre_estacion_origen': '038 - Plaza Libertad', 'direccion_estacion_origen': 'Cerrito 990 y Av. Marcelo T. De Alvear', 'long_estacion_origen': '-58.3828403', 'lat_estacion_origen': '-34.5970497', 'fecha_destino_recorrido': '2021-04-10 19:33:30 UTC', 'id_estacion_destino': '59BAEcobici', 'nombre_estacion_destino': '018 - Independencia', 'direccion_estacion_destino': 'Idependencia y Bernardo de Irigoyen', 'long_estacion_destino': '-58.380565', 'lat_estacion_destino': '-34.617654', 'id_usuario': '709075BAEcobici', 'modelo_bicicleta': 'ICONIC'}\n",
      "{'id_recorrido': '10756889BAEcobici', 'duracion_recorrido': '533', 'fecha_origen_recorrido': '2021-04-10 09:54:21 UTC', 'id_estacion_origen': '41BAEcobici', 'nombre_estacion_origen': '041 - Urquiza y Rondeau', 'direccion_estacion_origen': 'Urquiza, Gral. & Rondeau', 'long_estacion_origen': '-58.4076348', 'lat_estacion_origen': '-34.6364511', 'fecha_destino_recorrido': '2021-04-10 10:03:14 UTC', 'id_estacion_destino': '146BAEcobici', 'nombre_estacion_destino': '146 - Hospital Francés', 'direccion_estacion_destino': '3024 Calvo, Carlos', 'long_estacion_destino': '-58.4078419', 'lat_estacion_destino': '-34.6221118', 'id_usuario': '385668BAEcobici', 'modelo_bicicleta': 'ICONIC'}\n",
      "{'id_recorrido': '10757349BAEcobici', 'duracion_recorrido': '1564', 'fecha_origen_recorrido': '2021-04-10 13:42:02 UTC', 'id_estacion_origen': '41BAEcobici', 'nombre_estacion_origen': '041 - Urquiza y Rondeau', 'direccion_estacion_origen': 'Urquiza, Gral. & Rondeau', 'long_estacion_origen': '-58.4076348', 'lat_estacion_origen': '-34.6364511', 'fecha_destino_recorrido': '2021-04-10 14:08:06 UTC', 'id_estacion_destino': '288BAEcobici', 'nombre_estacion_destino': '333 - MIRO', 'direccion_estacion_destino': '1684 Miro', 'long_estacion_destino': '-58.4429517', 'lat_estacion_destino': '-34.6404886', 'id_usuario': '205676BAEcobici', 'modelo_bicicleta': 'ICONIC'}\n",
      "{'id_recorrido': '10756206BAEcobici', 'duracion_recorrido': '483', 'fecha_origen_recorrido': '2021-04-10 01:16:32 UTC', 'id_estacion_origen': '43BAEcobici', 'nombre_estacion_origen': '334 - CENTRO DE EXPOSICIONES', 'direccion_estacion_origen': '2133 Figueroa Alcorta', 'long_estacion_origen': '-58.389921', 'lat_estacion_origen': '-34.584018', 'fecha_destino_recorrido': '2021-04-10 01:24:35 UTC', 'id_estacion_destino': '114BAEcobici', 'nombre_estacion_destino': '114 - DELLA PAOLERA', 'direccion_estacion_destino': 'Della Paolera 297, Carlos M. & Av. Leandro N. Alem', 'long_estacion_destino': '-58.3722554', 'lat_estacion_destino': '-34.5949745', 'id_usuario': '324386BAEcobici', 'modelo_bicicleta': 'ICONIC'}\n",
      "{'id_recorrido': '10758140BAEcobici', 'duracion_recorrido': '2226', 'fecha_origen_recorrido': '2021-04-10 18:20:12 UTC', 'id_estacion_origen': '43BAEcobici', 'nombre_estacion_origen': '334 - CENTRO DE EXPOSICIONES', 'direccion_estacion_origen': '2133 Figueroa Alcorta', 'long_estacion_origen': '-58.389921', 'lat_estacion_origen': '-34.584018', 'fecha_destino_recorrido': '2021-04-10 18:57:18 UTC', 'id_estacion_destino': '14BAEcobici', 'nombre_estacion_destino': '014 - Pacifico', 'direccion_estacion_destino': 'Santa Fe Av. & Bullrich, Int. Av.', 'long_estacion_destino': '-58.426387', 'lat_estacion_destino': '-34.577424', 'id_usuario': '764024BAEcobici', 'modelo_bicicleta': 'ICONIC'}\n",
      "{'id_recorrido': '10758142BAEcobici', 'duracion_recorrido': '1385', 'fecha_origen_recorrido': '2021-04-10 18:20:26 UTC', 'id_estacion_origen': '43BAEcobici', 'nombre_estacion_origen': '334 - CENTRO DE EXPOSICIONES', 'direccion_estacion_origen': '2133 Figueroa Alcorta', 'long_estacion_origen': '-58.389921', 'lat_estacion_origen': '-34.584018', 'fecha_destino_recorrido': '2021-04-10 18:43:31 UTC', 'id_estacion_destino': '189BAEcobici', 'nombre_estacion_destino': '189 - POSADAS', 'direccion_estacion_destino': '1350 Posadas', 'long_estacion_destino': '-58.3852113', 'lat_estacion_destino': '-34.5886889', 'id_usuario': '57721BAEcobici', 'modelo_bicicleta': 'ICONIC'}\n",
      "{'id_recorrido': '10758227BAEcobici', 'duracion_recorrido': '2590', 'fecha_origen_recorrido': '2021-04-10 18:53:12 UTC', 'id_estacion_origen': '43BAEcobici', 'nombre_estacion_origen': '334 - CENTRO DE EXPOSICIONES', 'direccion_estacion_origen': '2133 Figueroa Alcorta', 'long_estacion_origen': '-58.389921', 'lat_estacion_origen': '-34.584018', 'fecha_destino_recorrido': '2021-04-10 19:36:22 UTC', 'id_estacion_destino': '182BAEcobici', 'nombre_estacion_destino': '182 - RAVIGNANI Y GUATEMALA', 'direccion_estacion_destino': '2185 Ravignani, Emilio, Dr. & Guatemala', 'long_estacion_destino': '-58.4352466', 'lat_estacion_destino': '-34.5780479', 'id_usuario': '761152BAEcobici', 'modelo_bicicleta': 'ICONIC'}\n",
      "{'id_recorrido': '10758230BAEcobici', 'duracion_recorrido': '2465', 'fecha_origen_recorrido': '2021-04-10 18:53:25 UTC', 'id_estacion_origen': '43BAEcobici', 'nombre_estacion_origen': '334 - CENTRO DE EXPOSICIONES', 'direccion_estacion_origen': '2133 Figueroa Alcorta', 'long_estacion_origen': '-58.389921', 'lat_estacion_origen': '-34.584018', 'fecha_destino_recorrido': '2021-04-10 19:34:30 UTC', 'id_estacion_destino': '182BAEcobici', 'nombre_estacion_destino': '182 - RAVIGNANI Y GUATEMALA', 'direccion_estacion_destino': '2185 Ravignani, Emilio, Dr. & Guatemala', 'long_estacion_destino': '-58.4352466', 'lat_estacion_destino': '-34.5780479', 'id_usuario': '764014BAEcobici', 'modelo_bicicleta': 'ICONIC'}\n",
      "{'id_recorrido': '10757209BAEcobici', 'duracion_recorrido': '1141', 'fecha_origen_recorrido': '2021-04-10 12:15:13 UTC', 'id_estacion_origen': '45BAEcobici', 'nombre_estacion_origen': '045 - Uruguay', 'direccion_estacion_origen': '561 Uruguay & Av. Tucuman', 'long_estacion_origen': '-58.3866934', 'lat_estacion_origen': '-34.6018635', 'fecha_destino_recorrido': '2021-04-10 12:34:14 UTC', 'id_estacion_destino': '212BAEcobici', 'nombre_estacion_destino': '129 - Velasco', 'direccion_estacion_destino': 'J.Ramirez de Velasco 285', 'long_estacion_destino': '-58.434875', 'lat_estacion_destino': '-34.600275', 'id_usuario': '53547BAEcobici', 'modelo_bicicleta': 'ICONIC'}\n",
      "{'id_recorrido': '10756709BAEcobici', 'duracion_recorrido': '839', 'fecha_origen_recorrido': '2021-04-10 08:29:21 UTC', 'id_estacion_origen': '45BAEcobici', 'nombre_estacion_origen': '045 - Uruguay', 'direccion_estacion_origen': '561 Uruguay & Av. Tucuman', 'long_estacion_origen': '-58.3866934', 'lat_estacion_origen': '-34.6018635', 'fecha_destino_recorrido': '2021-04-10 08:43:20 UTC', 'id_estacion_destino': '242BAEcobici', 'nombre_estacion_destino': '103 - MALBA', 'direccion_estacion_destino': '3051 San Martin De Tours', 'long_estacion_destino': '-58.403214', 'lat_estacion_destino': '-34.57716', 'id_usuario': '573474BAEcobici', 'modelo_bicicleta': 'ICONIC'}\n",
      "{'id_recorrido': '10757396BAEcobici', 'duracion_recorrido': '435', 'fecha_origen_recorrido': '2021-04-10 14:06:31 UTC', 'id_estacion_origen': '45BAEcobici', 'nombre_estacion_origen': '045 - Uruguay', 'direccion_estacion_origen': '561 Uruguay & Av. Tucuman', 'long_estacion_origen': '-58.3866934', 'lat_estacion_origen': '-34.6018635', 'fecha_destino_recorrido': '2021-04-10 14:13:46 UTC', 'id_estacion_destino': '95BAEcobici', 'nombre_estacion_destino': '095 - ESMERALDA', 'direccion_estacion_destino': 'ESMERALDA 516', 'long_estacion_destino': '-58.3781678', 'lat_estacion_destino': '-34.6021121', 'id_usuario': '763482BAEcobici', 'modelo_bicicleta': 'ICONIC'}\n",
      "{'id_recorrido': '10757272BAEcobici', 'duracion_recorrido': '363', 'fecha_origen_recorrido': '2021-04-10 13:08:45 UTC', 'id_estacion_origen': '45BAEcobici', 'nombre_estacion_origen': '045 - Uruguay', 'direccion_estacion_origen': '561 Uruguay & Av. Tucuman', 'long_estacion_origen': '-58.3866934', 'lat_estacion_origen': '-34.6018635', 'fecha_destino_recorrido': '2021-04-10 13:14:48 UTC', 'id_estacion_destino': '171BAEcobici', 'nombre_estacion_destino': '171 - Pasteur', 'direccion_estacion_destino': '519 Pasteur', 'long_estacion_destino': '-58.3997553', 'lat_estacion_destino': '-34.6032813', 'id_usuario': '152246BAEcobici', 'modelo_bicicleta': 'ICONIC'}\n",
      "{'id_recorrido': '10757225BAEcobici', 'duracion_recorrido': '2029', 'fecha_origen_recorrido': '2021-04-10 12:32:02 UTC', 'id_estacion_origen': '45BAEcobici', 'nombre_estacion_origen': '045 - Uruguay', 'direccion_estacion_origen': '561 Uruguay & Av. Tucuman', 'long_estacion_origen': '-58.3866934', 'lat_estacion_origen': '-34.6018635', 'fecha_destino_recorrido': '2021-04-10 13:05:51 UTC', 'id_estacion_destino': '184BAEcobici', 'nombre_estacion_destino': '184 - Pedro Echague', 'direccion_estacion_destino': 'Pedro Echague 1878 & Combate De Los Pozos', 'long_estacion_destino': '-58.3913419', 'lat_estacion_destino': '-34.6306129', 'id_usuario': '205676BAEcobici', 'modelo_bicicleta': 'ICONIC'}\n",
      "{'id_recorrido': '10758727BAEcobici', 'duracion_recorrido': '1262', 'fecha_origen_recorrido': '2021-04-10 23:53:01 UTC', 'id_estacion_origen': '45BAEcobici', 'nombre_estacion_origen': '045 - Uruguay', 'direccion_estacion_origen': '561 Uruguay & Av. Tucuman', 'long_estacion_origen': '-58.3866934', 'lat_estacion_origen': '-34.6018635', 'fecha_destino_recorrido': '2021-04-11 00:14:03 UTC', 'id_estacion_destino': '146BAEcobici', 'nombre_estacion_destino': '146 - Hospital Francés', 'direccion_estacion_destino': '3024 Calvo, Carlos', 'long_estacion_destino': '-58.4078419', 'lat_estacion_destino': '-34.6221118', 'id_usuario': '668737BAEcobici', 'modelo_bicicleta': 'ICONIC'}\n",
      "{'id_recorrido': '10757974BAEcobici', 'duracion_recorrido': '981', 'fecha_origen_recorrido': '2021-04-10 17:20:24 UTC', 'id_estacion_origen': '45BAEcobici', 'nombre_estacion_origen': '045 - Uruguay', 'direccion_estacion_origen': '561 Uruguay & Av. Tucuman', 'long_estacion_origen': '-58.3866934', 'lat_estacion_origen': '-34.6018635', 'fecha_destino_recorrido': '2021-04-10 17:36:45 UTC', 'id_estacion_destino': '50BAEcobici', 'nombre_estacion_destino': '050 - Hospital Rivadavia', 'direccion_estacion_destino': '2516 Pereyra Lucena', 'long_estacion_destino': '-58.4010798', 'lat_estacion_destino': '-34.5837348', 'id_usuario': '760549BAEcobici', 'modelo_bicicleta': 'ICONIC'}\n",
      "{'id_recorrido': '10757425BAEcobici', 'duracion_recorrido': '1004', 'fecha_origen_recorrido': '2021-04-10 14:19:52 UTC', 'id_estacion_origen': '46BAEcobici', 'nombre_estacion_origen': '046 - Chile', 'direccion_estacion_origen': 'Calle Perú, 718', 'long_estacion_origen': '-58.3743749', 'lat_estacion_origen': '-34.6163012', 'fecha_destino_recorrido': '2021-04-10 14:36:36 UTC', 'id_estacion_destino': '30BAEcobici', 'nombre_estacion_destino': '030 - Peña', 'direccion_estacion_destino': 'Peña & Azcuenaga', 'long_estacion_destino': '-58.3973698', 'lat_estacion_destino': '-34.5908211', 'id_usuario': '664902BAEcobici', 'modelo_bicicleta': 'ICONIC'}\n",
      "{'id_recorrido': '10757609BAEcobici', 'duracion_recorrido': '2207', 'fecha_origen_recorrido': '2021-04-10 15:36:21 UTC', 'id_estacion_origen': '46BAEcobici', 'nombre_estacion_origen': '046 - Chile', 'direccion_estacion_origen': 'Calle Perú, 718', 'long_estacion_origen': '-58.3743749', 'lat_estacion_origen': '-34.6163012', 'fecha_destino_recorrido': '2021-04-10 16:13:08 UTC', 'id_estacion_destino': '66BAEcobici', 'nombre_estacion_destino': '066 - Billinghurst', 'direccion_estacion_destino': '3508 Carcova', 'long_estacion_destino': '-58.4138713', 'lat_estacion_destino': '-34.5945475', 'id_usuario': '735562BAEcobici', 'modelo_bicicleta': 'ICONIC'}\n",
      "{'id_recorrido': '10756835BAEcobici', 'duracion_recorrido': '823', 'fecha_origen_recorrido': '2021-04-10 09:38:51 UTC', 'id_estacion_origen': '46BAEcobici', 'nombre_estacion_origen': '046 - Chile', 'direccion_estacion_origen': 'Calle Perú, 718', 'long_estacion_origen': '-58.3743749', 'lat_estacion_origen': '-34.6163012', 'fecha_destino_recorrido': '2021-04-10 09:52:34 UTC', 'id_estacion_destino': '86BAEcobici', 'nombre_estacion_destino': '086 - SAAVEDRA', 'direccion_estacion_destino': '1019 Saavedra', 'long_estacion_destino': '-58.4016808', 'lat_estacion_destino': '-34.6212681', 'id_usuario': '721944BAEcobici', 'modelo_bicicleta': 'ICONIC'}\n",
      "{'id_recorrido': '10757165BAEcobici', 'duracion_recorrido': '3000', 'fecha_origen_recorrido': '2021-04-10 11:42:17 UTC', 'id_estacion_origen': '46BAEcobici', 'nombre_estacion_origen': '046 - Chile', 'direccion_estacion_origen': 'Calle Perú, 718', 'long_estacion_origen': '-58.3743749', 'lat_estacion_origen': '-34.6163012', 'fecha_destino_recorrido': '2021-04-10 12:32:17 UTC', 'id_estacion_destino': '46BAEcobici', 'nombre_estacion_destino': '046 - Chile', 'direccion_estacion_destino': 'Calle Perú, 718', 'long_estacion_destino': '-58.3743749', 'lat_estacion_destino': '-34.6163012', 'id_usuario': '764001BAEcobici', 'modelo_bicicleta': 'ICONIC'}\n",
      "{'id_recorrido': '10757166BAEcobici', 'duracion_recorrido': '2972', 'fecha_origen_recorrido': '2021-04-10 11:42:29 UTC', 'id_estacion_origen': '46BAEcobici', 'nombre_estacion_origen': '046 - Chile', 'direccion_estacion_origen': 'Calle Perú, 718', 'long_estacion_origen': '-58.3743749', 'lat_estacion_origen': '-34.6163012', 'fecha_destino_recorrido': '2021-04-10 12:32:01 UTC', 'id_estacion_destino': '46BAEcobici', 'nombre_estacion_destino': '046 - Chile', 'direccion_estacion_destino': 'Calle Perú, 718', 'long_estacion_destino': '-58.3743749', 'lat_estacion_destino': '-34.6163012', 'id_usuario': '764004BAEcobici', 'modelo_bicicleta': 'ICONIC'}\n",
      "{'id_recorrido': '10757602BAEcobici', 'duracion_recorrido': '2252', 'fecha_origen_recorrido': '2021-04-10 15:35:13 UTC', 'id_estacion_origen': '46BAEcobici', 'nombre_estacion_origen': '046 - Chile', 'direccion_estacion_origen': 'Calle Perú, 718', 'long_estacion_origen': '-58.3743749', 'lat_estacion_origen': '-34.6163012', 'fecha_destino_recorrido': '2021-04-10 16:12:45 UTC', 'id_estacion_destino': '66BAEcobici', 'nombre_estacion_destino': '066 - Billinghurst', 'direccion_estacion_destino': '3508 Carcova', 'long_estacion_destino': '-58.4138713', 'lat_estacion_destino': '-34.5945475', 'id_usuario': '752005BAEcobici', 'modelo_bicicleta': 'ICONIC'}\n",
      "{'id_recorrido': '10757997BAEcobici', 'duracion_recorrido': '1104', 'fecha_origen_recorrido': '2021-04-10 17:30:32 UTC', 'id_estacion_origen': '46BAEcobici', 'nombre_estacion_origen': '046 - Chile', 'direccion_estacion_origen': 'Calle Perú, 718', 'long_estacion_origen': '-58.3743749', 'lat_estacion_origen': '-34.6163012', 'fecha_destino_recorrido': '2021-04-10 17:48:56 UTC', 'id_estacion_destino': '120BAEcobici', 'nombre_estacion_destino': '120 - HOSPITAL RAMOS MEJIA', 'direccion_estacion_destino': '3084 Agrelo', 'long_estacion_destino': '-58.4092876', 'lat_estacion_destino': '-34.617509', 'id_usuario': '712877BAEcobici', 'modelo_bicicleta': 'ICONIC'}\n",
      "{'id_recorrido': '10758121BAEcobici', 'duracion_recorrido': '1924', 'fecha_origen_recorrido': '2021-04-10 18:08:40 UTC', 'id_estacion_origen': '46BAEcobici', 'nombre_estacion_origen': '046 - Chile', 'direccion_estacion_origen': 'Calle Perú, 718', 'long_estacion_origen': '-58.3743749', 'lat_estacion_origen': '-34.6163012', 'fecha_destino_recorrido': '2021-04-10 18:40:44 UTC', 'id_estacion_destino': '254BAEcobici', 'nombre_estacion_destino': '276 - PRIMERA JUNTA', 'direccion_estacion_destino': 'Av. Rivadavia & Del Barco Centenera', 'long_estacion_destino': '-58.441607', 'lat_estacion_destino': '-34.620717', 'id_usuario': '216034BAEcobici', 'modelo_bicicleta': 'ICONIC'}\n",
      "{'id_recorrido': '10758281BAEcobici', 'duracion_recorrido': '1314', 'fecha_origen_recorrido': '2021-04-10 19:20:50 UTC', 'id_estacion_origen': '46BAEcobici', 'nombre_estacion_origen': '046 - Chile', 'direccion_estacion_origen': 'Calle Perú, 718', 'long_estacion_origen': '-58.3743749', 'lat_estacion_origen': '-34.6163012', 'fecha_destino_recorrido': '2021-04-10 19:42:44 UTC', 'id_estacion_destino': '441BAEcobici', 'nombre_estacion_destino': '016 - Legislatura', 'direccion_estacion_destino': '169 Peru & Roca, Julio A., Presidente Diagonal Sur Av.', 'long_estacion_destino': '-58.3748', 'lat_estacion_destino': '-34.609801', 'id_usuario': '754565BAEcobici', 'modelo_bicicleta': 'ICONIC'}\n",
      "{'id_recorrido': '10758278BAEcobici', 'duracion_recorrido': '362', 'fecha_origen_recorrido': '2021-04-10 19:18:33 UTC', 'id_estacion_origen': '46BAEcobici', 'nombre_estacion_origen': '046 - Chile', 'direccion_estacion_origen': 'Calle Perú, 718', 'long_estacion_origen': '-58.3743749', 'lat_estacion_origen': '-34.6163012', 'fecha_destino_recorrido': '2021-04-10 19:24:35 UTC', 'id_estacion_destino': '46BAEcobici', 'nombre_estacion_destino': '046 - Chile', 'direccion_estacion_destino': 'Calle Perú, 718', 'long_estacion_destino': '-58.3743749', 'lat_estacion_destino': '-34.6163012', 'id_usuario': '763593BAEcobici', 'modelo_bicicleta': 'ICONIC'}\n",
      "{'id_recorrido': '10758033BAEcobici', 'duracion_recorrido': '411', 'fecha_origen_recorrido': '2021-04-10 17:38:41 UTC', 'id_estacion_origen': '48BAEcobici', 'nombre_estacion_origen': '034 - Colonia Express', 'direccion_estacion_origen': '150 Dellepiane Y Pedro de Mendoza', 'long_estacion_origen': '-58.362131', 'lat_estacion_origen': '-34.624255', 'fecha_destino_recorrido': '2021-04-10 17:45:32 UTC', 'id_estacion_destino': '153BAEcobici', 'nombre_estacion_destino': '153 - JUAN MANUEL DE BLANES', 'direccion_estacion_destino': '383 Blanes, Juan Manuel', 'long_estacion_destino': '-58.3620701', 'lat_estacion_destino': '-34.6307765', 'id_usuario': '625979BAEcobici', 'modelo_bicicleta': 'ICONIC'}\n",
      "{'id_recorrido': '10758211BAEcobici', 'duracion_recorrido': '797', 'fecha_origen_recorrido': '2021-04-10 18:44:21 UTC', 'id_estacion_origen': '49BAEcobici', 'nombre_estacion_origen': '049 - 33 Orientales', 'direccion_estacion_origen': 'Constitucion & Treinta Y Tres Orientales', 'long_estacion_origen': '-58.422611', 'lat_estacion_origen': '-34.6290527', 'fecha_destino_recorrido': '2021-04-10 18:57:38 UTC', 'id_estacion_destino': '254BAEcobici', 'nombre_estacion_destino': '276 - PRIMERA JUNTA', 'direccion_estacion_destino': 'Av. Rivadavia & Del Barco Centenera', 'long_estacion_destino': '-58.441607', 'lat_estacion_destino': '-34.620717', 'id_usuario': '318310BAEcobici', 'modelo_bicicleta': 'ICONIC'}\n",
      "{'id_recorrido': '10756853BAEcobici', 'duracion_recorrido': '1137', 'fecha_origen_recorrido': '2021-04-10 09:45:04 UTC', 'id_estacion_origen': '49BAEcobici', 'nombre_estacion_origen': '049 - 33 Orientales', 'direccion_estacion_origen': 'Constitucion & Treinta Y Tres Orientales', 'long_estacion_origen': '-58.422611', 'lat_estacion_origen': '-34.6290527', 'fecha_destino_recorrido': '2021-04-10 10:04:01 UTC', 'id_estacion_destino': '118BAEcobici', 'nombre_estacion_destino': '118 - MEXICO', 'direccion_estacion_destino': 'Saavedra & Mexico', 'long_estacion_destino': '-58.4026531', 'lat_estacion_destino': '-34.6170196', 'id_usuario': '88689BAEcobici', 'modelo_bicicleta': 'ICONIC'}\n",
      "{'id_recorrido': '10756845BAEcobici', 'duracion_recorrido': '1315', 'fecha_origen_recorrido': '2021-04-10 09:42:33 UTC', 'id_estacion_origen': '49BAEcobici', 'nombre_estacion_origen': '049 - 33 Orientales', 'direccion_estacion_origen': 'Constitucion & Treinta Y Tres Orientales', 'long_estacion_origen': '-58.422611', 'lat_estacion_origen': '-34.6290527', 'fecha_destino_recorrido': '2021-04-10 10:04:28 UTC', 'id_estacion_destino': '8BAEcobici', 'nombre_estacion_destino': '008 - Congreso', 'direccion_estacion_destino': 'Cevallos, Virrey& Yrigoyen, Hipolito Av.', 'long_estacion_destino': '-58.3893364', 'lat_estacion_destino': '-34.6094218', 'id_usuario': '763995BAEcobici', 'modelo_bicicleta': 'ICONIC'}\n",
      "{'id_recorrido': '10757850BAEcobici', 'duracion_recorrido': '1965', 'fecha_origen_recorrido': '2021-04-10 16:53:15 UTC', 'id_estacion_origen': '49BAEcobici', 'nombre_estacion_origen': '049 - 33 Orientales', 'direccion_estacion_origen': 'Constitucion & Treinta Y Tres Orientales', 'long_estacion_origen': '-58.422611', 'lat_estacion_origen': '-34.6290527', 'fecha_destino_recorrido': '2021-04-10 17:26:00 UTC', 'id_estacion_destino': '96BAEcobici', 'nombre_estacion_destino': '096 - Carlos Gardel', 'direccion_estacion_destino': '3302 Guardia Vieja & Aguero', 'long_estacion_destino': '-58.4116586', 'lat_estacion_destino': '-34.6027814', 'id_usuario': '764017BAEcobici', 'modelo_bicicleta': 'ICONIC'}\n",
      "{'id_recorrido': '10757855BAEcobici', 'duracion_recorrido': '1933', 'fecha_origen_recorrido': '2021-04-10 16:54:13 UTC', 'id_estacion_origen': '49BAEcobici', 'nombre_estacion_origen': '049 - 33 Orientales', 'direccion_estacion_origen': 'Constitucion & Treinta Y Tres Orientales', 'long_estacion_origen': '-58.422611', 'lat_estacion_origen': '-34.6290527', 'fecha_destino_recorrido': '2021-04-10 17:26:26 UTC', 'id_estacion_destino': '96BAEcobici', 'nombre_estacion_destino': '096 - Carlos Gardel', 'direccion_estacion_destino': '3302 Guardia Vieja & Aguero', 'long_estacion_destino': '-58.4116586', 'lat_estacion_destino': '-34.6027814', 'id_usuario': '642357BAEcobici', 'modelo_bicicleta': 'ICONIC'}\n",
      "{'id_recorrido': '10757619BAEcobici', 'duracion_recorrido': '311', 'fecha_origen_recorrido': '2021-04-10 15:38:07 UTC', 'id_estacion_origen': '51BAEcobici', 'nombre_estacion_origen': '051 - TUCUMAN', 'direccion_estacion_origen': 'Tucuman & 9 De Julio Av.', 'long_estacion_origen': '-58.3821261', 'lat_estacion_origen': '-34.6014776', 'fecha_destino_recorrido': '2021-04-10 15:43:18 UTC', 'id_estacion_destino': '22BAEcobici', 'nombre_estacion_destino': '022 - Arenales', 'direccion_estacion_destino': 'Cerrito & Arenales', 'long_estacion_destino': '-58.3825498', 'lat_estacion_destino': '-34.5938629', 'id_usuario': '705953BAEcobici', 'modelo_bicicleta': 'ICONIC'}\n",
      "{'id_recorrido': '10758409BAEcobici', 'duracion_recorrido': '569', 'fecha_origen_recorrido': '2021-04-10 20:06:13 UTC', 'id_estacion_origen': '51BAEcobici', 'nombre_estacion_origen': '051 - TUCUMAN', 'direccion_estacion_origen': 'Tucuman & 9 De Julio Av.', 'long_estacion_origen': '-58.3821261', 'lat_estacion_origen': '-34.6014776', 'fecha_destino_recorrido': '2021-04-10 20:15:42 UTC', 'id_estacion_destino': '8BAEcobici', 'nombre_estacion_destino': '008 - Congreso', 'direccion_estacion_destino': 'Cevallos, Virrey& Yrigoyen, Hipolito Av.', 'long_estacion_destino': '-58.3893364', 'lat_estacion_destino': '-34.6094218', 'id_usuario': '698097BAEcobici', 'modelo_bicicleta': 'ICONIC'}\n",
      "{'id_recorrido': '10756839BAEcobici', 'duracion_recorrido': '565', 'fecha_origen_recorrido': '2021-04-10 09:40:29 UTC', 'id_estacion_origen': '58BAEcobici', 'nombre_estacion_origen': '058 - Ministro Carranza', 'direccion_estacion_origen': 'Santa Fe Av. & Dorrego', 'long_estacion_origen': '-58.4346883', 'lat_estacion_origen': '-34.5752773', 'fecha_destino_recorrido': '2021-04-10 09:49:54 UTC', 'id_estacion_destino': '239BAEcobici', 'nombre_estacion_destino': '391 - Plaza República de Ecuador', 'direccion_estacion_destino': 'Figueroa Alcorta, Pres. Av. & Dorrego Av.', 'long_estacion_destino': '-58.420702', 'lat_estacion_destino': '-34.565091', 'id_usuario': '694072BAEcobici', 'modelo_bicicleta': 'ICONIC'}\n",
      "{'id_recorrido': '10757761BAEcobici', 'duracion_recorrido': '1291', 'fecha_origen_recorrido': '2021-04-10 16:21:47 UTC', 'id_estacion_origen': '58BAEcobici', 'nombre_estacion_origen': '058 - Ministro Carranza', 'direccion_estacion_origen': 'Santa Fe Av. & Dorrego', 'long_estacion_origen': '-58.4346883', 'lat_estacion_origen': '-34.5752773', 'fecha_destino_recorrido': '2021-04-10 16:43:18 UTC', 'id_estacion_destino': '124BAEcobici', 'nombre_estacion_destino': '124 - UGARTECHE', 'direccion_estacion_destino': '3050 Ugarteche', 'long_estacion_destino': '-58.411965', 'lat_estacion_destino': '-34.580538', 'id_usuario': '165620BAEcobici', 'modelo_bicicleta': 'ICONIC'}\n",
      "{'id_recorrido': '10758141BAEcobici', 'duracion_recorrido': '2020', 'fecha_origen_recorrido': '2021-04-10 18:20:17 UTC', 'id_estacion_origen': '58BAEcobici', 'nombre_estacion_origen': '058 - Ministro Carranza', 'direccion_estacion_origen': 'Santa Fe Av. & Dorrego', 'long_estacion_origen': '-58.4346883', 'lat_estacion_origen': '-34.5752773', 'fecha_destino_recorrido': '2021-04-10 18:53:57 UTC', 'id_estacion_destino': '58BAEcobici', 'nombre_estacion_destino': '058 - Ministro Carranza', 'direccion_estacion_destino': 'Santa Fe Av. & Dorrego', 'long_estacion_destino': '-58.4346883', 'lat_estacion_destino': '-34.5752773', 'id_usuario': '394290BAEcobici', 'modelo_bicicleta': 'ICONIC'}\n",
      "{'id_recorrido': '10758399BAEcobici', 'duracion_recorrido': '534', 'fecha_origen_recorrido': '2021-04-10 20:02:24 UTC', 'id_estacion_origen': '58BAEcobici', 'nombre_estacion_origen': '058 - Ministro Carranza', 'direccion_estacion_origen': 'Santa Fe Av. & Dorrego', 'long_estacion_origen': '-58.4346883', 'lat_estacion_origen': '-34.5752773', 'fecha_destino_recorrido': '2021-04-10 20:11:18 UTC', 'id_estacion_destino': '14BAEcobici', 'nombre_estacion_destino': '014 - Pacifico', 'direccion_estacion_destino': 'Santa Fe Av. & Bullrich, Int. Av.', 'long_estacion_destino': '-58.426387', 'lat_estacion_destino': '-34.577424', 'id_usuario': '315188BAEcobici', 'modelo_bicicleta': 'ICONIC'}\n",
      "{'id_recorrido': '10757582BAEcobici', 'duracion_recorrido': '1073', 'fecha_origen_recorrido': '2021-04-10 15:27:52 UTC', 'id_estacion_origen': '58BAEcobici', 'nombre_estacion_origen': '058 - Ministro Carranza', 'direccion_estacion_origen': 'Santa Fe Av. & Dorrego', 'long_estacion_origen': '-58.4346883', 'lat_estacion_origen': '-34.5752773', 'fecha_destino_recorrido': '2021-04-10 15:45:45 UTC', 'id_estacion_destino': '70BAEcobici', 'nombre_estacion_destino': '070 - ARAOZ', 'direccion_estacion_destino': '1413 Araoz & Gorriti CABA', 'long_estacion_destino': '-58.4260597', 'lat_estacion_destino': '-34.5926862', 'id_usuario': '681118BAEcobici', 'modelo_bicicleta': 'ICONIC'}\n",
      "{'id_recorrido': '10758423BAEcobici', 'duracion_recorrido': '1000', 'fecha_origen_recorrido': '2021-04-10 20:11:02 UTC', 'id_estacion_origen': '58BAEcobici', 'nombre_estacion_origen': '058 - Ministro Carranza', 'direccion_estacion_origen': 'Santa Fe Av. & Dorrego', 'long_estacion_origen': '-58.4346883', 'lat_estacion_origen': '-34.5752773', 'fecha_destino_recorrido': '2021-04-10 20:27:42 UTC', 'id_estacion_destino': '216BAEcobici', 'nombre_estacion_destino': '059 - Coronel Diaz', 'direccion_estacion_destino': 'Guemes 3330 & Coronel Diaz', 'long_estacion_destino': '-58.411493', 'lat_estacion_destino': '-34.589968', 'id_usuario': '278500BAEcobici', 'modelo_bicicleta': 'ICONIC'}\n",
      "{'id_recorrido': '10758428BAEcobici', 'duracion_recorrido': '712', 'fecha_origen_recorrido': '2021-04-10 20:13:54 UTC', 'id_estacion_origen': '58BAEcobici', 'nombre_estacion_origen': '058 - Ministro Carranza', 'direccion_estacion_origen': 'Santa Fe Av. & Dorrego', 'long_estacion_origen': '-58.4346883', 'lat_estacion_origen': '-34.5752773', 'fecha_destino_recorrido': '2021-04-10 20:25:46 UTC', 'id_estacion_destino': '65BAEcobici', 'nombre_estacion_destino': '065 - Julián Álvarez', 'direccion_estacion_destino': '3822 Guemes', 'long_estacion_destino': '-58.4157873', 'lat_estacion_destino': '-34.5873124', 'id_usuario': '278824BAEcobici', 'modelo_bicicleta': 'ICONIC'}\n",
      "{'id_recorrido': '10758694BAEcobici', 'duracion_recorrido': '2274', 'fecha_origen_recorrido': '2021-04-10 23:32:28 UTC', 'id_estacion_origen': '58BAEcobici', 'nombre_estacion_origen': '058 - Ministro Carranza', 'direccion_estacion_origen': 'Santa Fe Av. & Dorrego', 'long_estacion_origen': '-58.4346883', 'lat_estacion_origen': '-34.5752773', 'fecha_destino_recorrido': '2021-04-11 00:10:22 UTC', 'id_estacion_destino': '156BAEcobici', 'nombre_estacion_destino': '156 - Plaza Alemania', 'direccion_estacion_destino': '2939 Cavia', 'long_estacion_destino': '-58.4074696', 'lat_estacion_destino': '-34.5775895', 'id_usuario': '721441BAEcobici', 'modelo_bicicleta': 'ICONIC'}\n",
      "{'id_recorrido': '10757836BAEcobici', 'duracion_recorrido': '1045', 'fecha_origen_recorrido': '2021-04-10 16:47:03 UTC', 'id_estacion_origen': '59BAEcobici', 'nombre_estacion_origen': '018 - Independencia', 'direccion_estacion_origen': 'Idependencia y Bernardo de Irigoyen', 'long_estacion_origen': '-58.380565', 'lat_estacion_origen': '-34.617654', 'fecha_destino_recorrido': '2021-04-10 17:04:28 UTC', 'id_estacion_destino': '175BAEcobici', 'nombre_estacion_destino': '147 - Constitución', 'direccion_estacion_destino': 'Avenida Juan de Garay 1050', 'long_estacion_destino': '-58.380707', 'lat_estacion_destino': '-34.626851', 'id_usuario': '130236BAEcobici', 'modelo_bicicleta': 'ICONIC'}\n",
      "{'id_recorrido': '10758430BAEcobici', 'duracion_recorrido': '709', 'fecha_origen_recorrido': '2021-04-10 20:15:07 UTC', 'id_estacion_origen': '59BAEcobici', 'nombre_estacion_origen': '018 - Independencia', 'direccion_estacion_origen': 'Idependencia y Bernardo de Irigoyen', 'long_estacion_origen': '-58.380565', 'lat_estacion_origen': '-34.617654', 'fecha_destino_recorrido': '2021-04-10 20:26:56 UTC', 'id_estacion_destino': '151BAEcobici', 'nombre_estacion_destino': '151 - AIME PAINÉ', 'direccion_estacion_destino': 'Villaflor, Azucena & Paine, Aime', 'long_estacion_destino': '-58.361285', 'lat_estacion_destino': '-34.6118145', 'id_usuario': '488034BAEcobici', 'modelo_bicicleta': 'ICONIC'}\n",
      "{'id_recorrido': '10758131BAEcobici', 'duracion_recorrido': '874', 'fecha_origen_recorrido': '2021-04-10 18:14:53 UTC', 'id_estacion_origen': '63BAEcobici', 'nombre_estacion_origen': '063 - Reconquista', 'direccion_estacion_origen': 'Reconquista & Cordoba Av.', 'long_estacion_origen': '-58.373062', 'lat_estacion_origen': '-34.5986', 'fecha_destino_recorrido': '2021-04-10 18:29:27 UTC', 'id_estacion_destino': '152BAEcobici', 'nombre_estacion_destino': '152 - JULIETA LANTERI', 'direccion_estacion_destino': 'Vera Peñaloza, Rosario 599 & Lanteri Julieta', 'long_estacion_destino': '-58.3596311', 'lat_estacion_destino': '-34.6181645', 'id_usuario': '715532BAEcobici', 'modelo_bicicleta': 'ICONIC'}\n",
      "{'id_recorrido': '10758103BAEcobici', 'duracion_recorrido': '342', 'fecha_origen_recorrido': '2021-04-10 18:04:02 UTC', 'id_estacion_origen': '63BAEcobici', 'nombre_estacion_origen': '063 - Reconquista', 'direccion_estacion_origen': 'Reconquista & Cordoba Av.', 'long_estacion_origen': '-58.373062', 'lat_estacion_origen': '-34.5986', 'fecha_destino_recorrido': '2021-04-10 18:09:44 UTC', 'id_estacion_destino': '135BAEcobici', 'nombre_estacion_destino': '135 - MARCELO T. DE ALVEAR', 'direccion_estacion_destino': '902 Esmeralda', 'long_estacion_destino': '-58.3787856', 'lat_estacion_destino': '-34.5972818', 'id_usuario': '711583BAEcobici', 'modelo_bicicleta': 'ICONIC'}\n",
      "{'id_recorrido': '10756026BAEcobici', 'duracion_recorrido': '289', 'fecha_origen_recorrido': '2021-04-10 00:03:41 UTC', 'id_estacion_origen': '63BAEcobici', 'nombre_estacion_origen': '063 - Reconquista', 'direccion_estacion_origen': 'Reconquista & Cordoba Av.', 'long_estacion_origen': '-58.373062', 'lat_estacion_origen': '-34.5986', 'fecha_destino_recorrido': '2021-04-10 00:08:30 UTC', 'id_estacion_destino': '135BAEcobici', 'nombre_estacion_destino': '135 - MARCELO T. DE ALVEAR', 'direccion_estacion_destino': '902 Esmeralda', 'long_estacion_destino': '-58.3787856', 'lat_estacion_destino': '-34.5972818', 'id_usuario': '711583BAEcobici', 'modelo_bicicleta': 'ICONIC'}\n",
      "{'id_recorrido': '10757620BAEcobici', 'duracion_recorrido': '3372', 'fecha_origen_recorrido': '2021-04-10 15:38:20 UTC', 'id_estacion_origen': '63BAEcobici', 'nombre_estacion_origen': '063 - Reconquista', 'direccion_estacion_origen': 'Reconquista & Cordoba Av.', 'long_estacion_origen': '-58.373062', 'lat_estacion_origen': '-34.5986', 'fecha_destino_recorrido': '2021-04-10 16:34:32 UTC', 'id_estacion_destino': '58BAEcobici', 'nombre_estacion_destino': '058 - Ministro Carranza', 'direccion_estacion_destino': 'Santa Fe Av. & Dorrego', 'long_estacion_destino': '-58.4346883', 'lat_estacion_destino': '-34.5752773', 'id_usuario': '157730BAEcobici', 'modelo_bicicleta': 'ICONIC'}\n"
     ]
    }
   ],
   "source": [
    "import csv\n",
    "\n",
    "with open('trips_reducido.csv') as csv_file:\n",
    "    csv_reader = csv.DictReader(csv_file)\n",
    "    for row in csv_reader:\n",
    "        print(row)"
   ]
  },
  {
   "cell_type": "code",
   "execution_count": 6,
   "id": "39e654cf",
   "metadata": {},
   "outputs": [],
   "source": [
    "with open('trips_reducido.csv') as csv_file:\n",
    "    csv_reader = csv.DictReader(csv_file)\n",
    "    for row in csv_reader:\n",
    "        fecha = row[\"fecha_origen_recorrido\"]"
   ]
  },
  {
   "cell_type": "code",
   "execution_count": 7,
   "id": "54e1872f",
   "metadata": {},
   "outputs": [
    {
     "name": "stdout",
     "output_type": "stream",
     "text": [
      "2021-04-10 15:38:20 UTC\n"
     ]
    }
   ],
   "source": [
    "print(fecha)"
   ]
  },
  {
   "cell_type": "code",
   "execution_count": 10,
   "id": "40c05e91",
   "metadata": {},
   "outputs": [
    {
     "name": "stdout",
     "output_type": "stream",
     "text": [
      "Date: 2021-04-10\n",
      "Time: 15:38:20\n",
      "Date-time: 2021-04-10 15:38:20\n"
     ]
    }
   ],
   "source": [
    "import datetime\n",
    "\n",
    "date_time_obj = datetime.datetime.strptime(fecha, '%Y-%m-%d %H:%M:%S %Z')\n",
    "\n",
    "print('Date:', date_time_obj.date())\n",
    "print('Time:', date_time_obj.time())\n",
    "print('Date-time:', date_time_obj)"
   ]
  },
  {
   "cell_type": "code",
   "execution_count": 57,
   "id": "712eb27c",
   "metadata": {},
   "outputs": [],
   "source": [
    "date_time_obj.tzinfo"
   ]
  },
  {
   "cell_type": "code",
   "execution_count": 40,
   "id": "3c162d9d",
   "metadata": {},
   "outputs": [],
   "source": [
    "import pytz"
   ]
  },
  {
   "cell_type": "code",
   "execution_count": 41,
   "id": "76c1e37a",
   "metadata": {},
   "outputs": [],
   "source": [
    "local = pytz.timezone(\"America/Los_Angeles\")"
   ]
  },
  {
   "cell_type": "code",
   "execution_count": 58,
   "id": "624c0210",
   "metadata": {},
   "outputs": [],
   "source": [
    "local = pytz.timezone(\"America/Argentina/Catamarca\")"
   ]
  },
  {
   "cell_type": "code",
   "execution_count": 64,
   "id": "ef88bced",
   "metadata": {},
   "outputs": [],
   "source": [
    "local = pytz.timezone(\"Chile/EasterIsland\")"
   ]
  },
  {
   "cell_type": "code",
   "execution_count": 72,
   "id": "c878b11e",
   "metadata": {},
   "outputs": [],
   "source": [
    "local = pytz.timezone(\"ETC/Greenwich\")"
   ]
  },
  {
   "cell_type": "code",
   "execution_count": 73,
   "id": "25116f50",
   "metadata": {},
   "outputs": [
    {
     "data": {
      "text/plain": [
       "<StaticTzInfo 'Etc/Greenwich'>"
      ]
     },
     "execution_count": 73,
     "metadata": {},
     "output_type": "execute_result"
    }
   ],
   "source": [
    "local"
   ]
  },
  {
   "cell_type": "code",
   "execution_count": 74,
   "id": "aeb2021a",
   "metadata": {},
   "outputs": [],
   "source": [
    "date_time_local = date_time_obj.astimezone(local)"
   ]
  },
  {
   "cell_type": "code",
   "execution_count": 75,
   "id": "02c6f527",
   "metadata": {},
   "outputs": [
    {
     "name": "stdout",
     "output_type": "stream",
     "text": [
      "2021-04-10 18:38:20+00:00\n"
     ]
    }
   ],
   "source": [
    "print(date_time_local)"
   ]
  },
  {
   "cell_type": "code",
   "execution_count": 76,
   "id": "117770b4",
   "metadata": {},
   "outputs": [
    {
     "name": "stdout",
     "output_type": "stream",
     "text": [
      "15:38:20\n"
     ]
    }
   ],
   "source": [
    "print(date_time_obj.time())"
   ]
  },
  {
   "cell_type": "code",
   "execution_count": 77,
   "id": "536ac23b",
   "metadata": {},
   "outputs": [
    {
     "name": "stdout",
     "output_type": "stream",
     "text": [
      "18:38:20\n"
     ]
    }
   ],
   "source": [
    "print(date_time_local.time())"
   ]
  },
  {
   "cell_type": "code",
   "execution_count": 78,
   "id": "c3d02406",
   "metadata": {},
   "outputs": [
    {
     "data": {
      "text/plain": [
       "15"
      ]
     },
     "execution_count": 78,
     "metadata": {},
     "output_type": "execute_result"
    }
   ],
   "source": [
    "date_time_obj.hour"
   ]
  },
  {
   "cell_type": "code",
   "execution_count": 79,
   "id": "6a467c19",
   "metadata": {},
   "outputs": [
    {
     "data": {
      "text/plain": [
       "18"
      ]
     },
     "execution_count": 79,
     "metadata": {},
     "output_type": "execute_result"
    }
   ],
   "source": [
    "date_time_local.hour"
   ]
  },
  {
   "cell_type": "code",
   "execution_count": 80,
   "id": "3b3210fe",
   "metadata": {},
   "outputs": [
    {
     "data": {
      "text/plain": [
       "datetime.datetime(2021, 4, 10, 15, 38, 20)"
      ]
     },
     "execution_count": 80,
     "metadata": {},
     "output_type": "execute_result"
    }
   ],
   "source": [
    "date_time_obj"
   ]
  },
  {
   "cell_type": "code",
   "execution_count": 81,
   "id": "6ae43948",
   "metadata": {},
   "outputs": [],
   "source": [
    "diccionario = dict()"
   ]
  },
  {
   "cell_type": "code",
   "execution_count": 82,
   "id": "c96236fb",
   "metadata": {},
   "outputs": [
    {
     "data": {
      "text/plain": [
       "{}"
      ]
     },
     "execution_count": 82,
     "metadata": {},
     "output_type": "execute_result"
    }
   ],
   "source": [
    "diccionario"
   ]
  },
  {
   "cell_type": "code",
   "execution_count": 83,
   "id": "42307ec4",
   "metadata": {},
   "outputs": [],
   "source": [
    "diccionario['once'] = 1"
   ]
  },
  {
   "cell_type": "code",
   "execution_count": 84,
   "id": "a19e8339",
   "metadata": {},
   "outputs": [
    {
     "data": {
      "text/plain": [
       "{'once': 1}"
      ]
     },
     "execution_count": 84,
     "metadata": {},
     "output_type": "execute_result"
    }
   ],
   "source": [
    "diccionario"
   ]
  },
  {
   "cell_type": "code",
   "execution_count": 85,
   "id": "95583fcd",
   "metadata": {},
   "outputs": [],
   "source": [
    "diccionario['once'] += 1"
   ]
  },
  {
   "cell_type": "code",
   "execution_count": 86,
   "id": "9702d3b6",
   "metadata": {},
   "outputs": [
    {
     "data": {
      "text/plain": [
       "{'once': 2}"
      ]
     },
     "execution_count": 86,
     "metadata": {},
     "output_type": "execute_result"
    }
   ],
   "source": [
    "diccionario"
   ]
  },
  {
   "cell_type": "code",
   "execution_count": 87,
   "id": "67266292",
   "metadata": {},
   "outputs": [
    {
     "name": "stdout",
     "output_type": "stream",
     "text": [
      "{'003 - ADUANA': 1, '004 - Plaza Roma': 1, '006 - Parque Lezama': 1, '012 - Plaza Vicente Lopez': 2, '013 - ONCE': 1, '022 - Arenales': 2, '027 - Montevideo': 2, '032 - Catedral': 1, '035 - INGENIERO BUTTY': 1, '038 - Plaza Libertad': 1, '041 - Urquiza y Rondeau': 1, '045 - Uruguay': 1, '046 - Chile': 3, '049 - 33 Orientales': 2, '058 - Ministro Carranza': 1}\n",
      "[('046 - Chile', 3), ('012 - Plaza Vicente Lopez', 2), ('022 - Arenales', 2)]\n"
     ]
    }
   ],
   "source": [
    "from collections import Counter\n",
    "import csv\n",
    "import datetime\n",
    "\n",
    "with open('trips_reducido.csv') as csv_file:\n",
    "    csv_reader = csv.DictReader(csv_file)\n",
    "    diccionario = dict()\n",
    "    for row in csv_reader:\n",
    "        nombre_estacion_origen = row['nombre_estacion_origen']\n",
    "        datetime_str = row['fecha_origen_recorrido']\n",
    "        datetime_obj = datetime.datetime.strptime(datetime_str, '%Y-%m-%d %H:%M:%S %Z')\n",
    "        if 6 <= datetime_obj.hour < 12:\n",
    "            try:\n",
    "                diccionario[nombre_estacion_origen] += 1\n",
    "            except KeyError:\n",
    "                diccionario[nombre_estacion_origen] = 1\n",
    "\n",
    "print(diccionario)\n",
    "\n",
    "k = Counter(diccionario)\n",
    "\n",
    "print(k.most_common(3))\n"
   ]
  },
  {
   "cell_type": "code",
   "execution_count": 88,
   "id": "5bd4f3b5",
   "metadata": {},
   "outputs": [
    {
     "name": "stdout",
     "output_type": "stream",
     "text": [
      "Counter({'046 - Chile': 3, '012 - Plaza Vicente Lopez': 2, '022 - Arenales': 2, '027 - Montevideo': 2, '049 - 33 Orientales': 2, '003 - ADUANA': 1, '004 - Plaza Roma': 1, '006 - Parque Lezama': 1, '013 - ONCE': 1, '032 - Catedral': 1, '035 - INGENIERO BUTTY': 1, '038 - Plaza Libertad': 1, '041 - Urquiza y Rondeau': 1, '045 - Uruguay': 1, '058 - Ministro Carranza': 1})\n"
     ]
    }
   ],
   "source": [
    "print(k)"
   ]
  },
  {
   "cell_type": "code",
   "execution_count": 89,
   "id": "c914dd24",
   "metadata": {},
   "outputs": [
    {
     "name": "stdout",
     "output_type": "stream",
     "text": [
      "{'003 - ADUANA': 1, '004 - Plaza Roma': 1, '006 - Parque Lezama': 1, '012 - Plaza Vicente Lopez': 2, '013 - ONCE': 1, '022 - Arenales': 2, '027 - Montevideo': 2, '032 - Catedral': 1, '035 - INGENIERO BUTTY': 1, '038 - Plaza Libertad': 1, '041 - Urquiza y Rondeau': 1, '045 - Uruguay': 1, '046 - Chile': 3, '049 - 33 Orientales': 2, '058 - Ministro Carranza': 1}\n"
     ]
    }
   ],
   "source": [
    "print(diccionario)"
   ]
  },
  {
   "cell_type": "code",
   "execution_count": null,
   "id": "e96ef142",
   "metadata": {},
   "outputs": [],
   "source": []
  }
 ],
 "metadata": {
  "kernelspec": {
   "display_name": "Python 3 (ipykernel)",
   "language": "python",
   "name": "python3"
  },
  "language_info": {
   "codemirror_mode": {
    "name": "ipython",
    "version": 3
   },
   "file_extension": ".py",
   "mimetype": "text/x-python",
   "name": "python",
   "nbconvert_exporter": "python",
   "pygments_lexer": "ipython3",
   "version": "3.8.10"
  }
 },
 "nbformat": 4,
 "nbformat_minor": 5
}
